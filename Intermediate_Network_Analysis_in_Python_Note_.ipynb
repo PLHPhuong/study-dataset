{
  "nbformat": 4,
  "nbformat_minor": 0,
  "metadata": {
    "colab": {
      "name": "Intermediate Network Analysis in Python - Note .ipynb",
      "provenance": [],
      "collapsed_sections": [],
      "authorship_tag": "ABX9TyM045P1gBpjak/fAgFfCRIg",
      "include_colab_link": true
    },
    "kernelspec": {
      "name": "python3",
      "display_name": "Python 3"
    },
    "language_info": {
      "name": "python"
    }
  },
  "cells": [
    {
      "cell_type": "markdown",
      "metadata": {
        "id": "view-in-github",
        "colab_type": "text"
      },
      "source": [
        "<a href=\"https://colab.research.google.com/github/PLHPhuong/study-dataset/blob/main/Intermediate_Network_Analysis_in_Python_Note_.ipynb\" target=\"_parent\"><img src=\"https://colab.research.google.com/assets/colab-badge.svg\" alt=\"Open In Colab\"/></a>"
      ]
    },
    {
      "cell_type": "code",
      "metadata": {
        "colab": {
          "base_uri": "https://localhost:8080/"
        },
        "id": "b-fKekuMIc2X",
        "outputId": "93416541-598f-4d5a-e1dc-81d90afe258c"
      },
      "source": [
        "!pip install nxviz==0.6.2"
      ],
      "execution_count": null,
      "outputs": [
        {
          "output_type": "stream",
          "name": "stdout",
          "text": [
            "Requirement already satisfied: nxviz==0.6.2 in /usr/local/lib/python3.7/dist-packages (0.6.2)\n",
            "Requirement already satisfied: pandas==0.25.1 in /usr/local/lib/python3.7/dist-packages (from nxviz==0.6.2) (0.25.1)\n",
            "Requirement already satisfied: palettable==3.1.1 in /usr/local/lib/python3.7/dist-packages (from nxviz==0.6.2) (3.1.1)\n",
            "Requirement already satisfied: setuptools==41.2.0 in /usr/local/lib/python3.7/dist-packages (from nxviz==0.6.2) (41.2.0)\n",
            "Requirement already satisfied: sphinxcontrib-fulltoc==1.2.0 in /usr/local/lib/python3.7/dist-packages (from nxviz==0.6.2) (1.2.0)\n",
            "Requirement already satisfied: pytest==5.1.2 in /usr/local/lib/python3.7/dist-packages (from nxviz==0.6.2) (5.1.2)\n",
            "Requirement already satisfied: more-itertools==7.2.0 in /usr/local/lib/python3.7/dist-packages (from nxviz==0.6.2) (7.2.0)\n",
            "Requirement already satisfied: numpy==1.17.1 in /usr/local/lib/python3.7/dist-packages (from nxviz==0.6.2) (1.17.1)\n",
            "Requirement already satisfied: matplotlib==3.1.1 in /usr/local/lib/python3.7/dist-packages (from nxviz==0.6.2) (3.1.1)\n",
            "Requirement already satisfied: networkx==2.3 in /usr/local/lib/python3.7/dist-packages (from nxviz==0.6.2) (2.3)\n",
            "Requirement already satisfied: seaborn==0.9.0 in /usr/local/lib/python3.7/dist-packages (from nxviz==0.6.2) (0.9.0)\n",
            "Requirement already satisfied: PyYAML==5.1.2 in /usr/local/lib/python3.7/dist-packages (from nxviz==0.6.2) (5.1.2)\n",
            "Requirement already satisfied: hypothesis==4.34.0 in /usr/local/lib/python3.7/dist-packages (from nxviz==0.6.2) (4.34.0)\n",
            "Requirement already satisfied: cryptography==2.7 in /usr/local/lib/python3.7/dist-packages (from nxviz==0.6.2) (2.7)\n",
            "Requirement already satisfied: cffi!=1.11.3,>=1.8 in /usr/local/lib/python3.7/dist-packages (from cryptography==2.7->nxviz==0.6.2) (1.14.6)\n",
            "Requirement already satisfied: asn1crypto>=0.21.0 in /usr/local/lib/python3.7/dist-packages (from cryptography==2.7->nxviz==0.6.2) (1.4.0)\n",
            "Requirement already satisfied: six>=1.4.1 in /usr/local/lib/python3.7/dist-packages (from cryptography==2.7->nxviz==0.6.2) (1.15.0)\n",
            "Requirement already satisfied: attrs>=16.0.0 in /usr/local/lib/python3.7/dist-packages (from hypothesis==4.34.0->nxviz==0.6.2) (21.2.0)\n",
            "Requirement already satisfied: kiwisolver>=1.0.1 in /usr/local/lib/python3.7/dist-packages (from matplotlib==3.1.1->nxviz==0.6.2) (1.3.2)\n",
            "Requirement already satisfied: pyparsing!=2.0.4,!=2.1.2,!=2.1.6,>=2.0.1 in /usr/local/lib/python3.7/dist-packages (from matplotlib==3.1.1->nxviz==0.6.2) (2.4.7)\n",
            "Requirement already satisfied: python-dateutil>=2.1 in /usr/local/lib/python3.7/dist-packages (from matplotlib==3.1.1->nxviz==0.6.2) (2.8.2)\n",
            "Requirement already satisfied: cycler>=0.10 in /usr/local/lib/python3.7/dist-packages (from matplotlib==3.1.1->nxviz==0.6.2) (0.10.0)\n",
            "Requirement already satisfied: decorator>=4.3.0 in /usr/local/lib/python3.7/dist-packages (from networkx==2.3->nxviz==0.6.2) (4.4.2)\n",
            "Requirement already satisfied: pytz>=2017.2 in /usr/local/lib/python3.7/dist-packages (from pandas==0.25.1->nxviz==0.6.2) (2018.9)\n",
            "Requirement already satisfied: wcwidth in /usr/local/lib/python3.7/dist-packages (from pytest==5.1.2->nxviz==0.6.2) (0.2.5)\n",
            "Requirement already satisfied: importlib-metadata>=0.12 in /usr/local/lib/python3.7/dist-packages (from pytest==5.1.2->nxviz==0.6.2) (4.8.1)\n",
            "Requirement already satisfied: py>=1.5.0 in /usr/local/lib/python3.7/dist-packages (from pytest==5.1.2->nxviz==0.6.2) (1.10.0)\n",
            "Requirement already satisfied: packaging in /usr/local/lib/python3.7/dist-packages (from pytest==5.1.2->nxviz==0.6.2) (21.0)\n",
            "Requirement already satisfied: pluggy<1.0,>=0.12 in /usr/local/lib/python3.7/dist-packages (from pytest==5.1.2->nxviz==0.6.2) (0.13.1)\n",
            "Requirement already satisfied: atomicwrites>=1.0 in /usr/local/lib/python3.7/dist-packages (from pytest==5.1.2->nxviz==0.6.2) (1.4.0)\n",
            "Requirement already satisfied: scipy>=0.14.0 in /usr/local/lib/python3.7/dist-packages (from seaborn==0.9.0->nxviz==0.6.2) (1.4.1)\n",
            "Requirement already satisfied: pycparser in /usr/local/lib/python3.7/dist-packages (from cffi!=1.11.3,>=1.8->cryptography==2.7->nxviz==0.6.2) (2.20)\n",
            "Requirement already satisfied: zipp>=0.5 in /usr/local/lib/python3.7/dist-packages (from importlib-metadata>=0.12->pytest==5.1.2->nxviz==0.6.2) (3.6.0)\n",
            "Requirement already satisfied: typing-extensions>=3.6.4 in /usr/local/lib/python3.7/dist-packages (from importlib-metadata>=0.12->pytest==5.1.2->nxviz==0.6.2) (3.7.4.3)\n"
          ]
        }
      ]
    },
    {
      "cell_type": "code",
      "metadata": {
        "colab": {
          "base_uri": "https://localhost:8080/"
        },
        "id": "NISTWDJ_cobq",
        "outputId": "062479f2-bf20-494f-ac58-112f9ff31009"
      },
      "source": [
        "!wget https://raw.githubusercontent.com/PLHPhuong/study-dataset/main/Intermediate%20Network%20Analysis%20in%20Python/full.zip\n",
        "!wget https://raw.githubusercontent.com/ptpuyen1511/lab-01-SNA/master/facebook_combined.txt"
      ],
      "execution_count": null,
      "outputs": [
        {
          "output_type": "stream",
          "name": "stdout",
          "text": [
            "--2021-11-02 05:42:02--  https://raw.githubusercontent.com/PLHPhuong/study-dataset/main/Intermediate%20Network%20Analysis%20in%20Python/full.zip\n",
            "Resolving raw.githubusercontent.com (raw.githubusercontent.com)... 185.199.108.133, 185.199.109.133, 185.199.110.133, ...\n",
            "Connecting to raw.githubusercontent.com (raw.githubusercontent.com)|185.199.108.133|:443... connected.\n",
            "HTTP request sent, awaiting response... 200 OK\n",
            "Length: 656363 (641K) [application/zip]\n",
            "Saving to: ‘full.zip.2’\n",
            "\n",
            "\rfull.zip.2            0%[                    ]       0  --.-KB/s               \rfull.zip.2          100%[===================>] 640.98K  --.-KB/s    in 0.04s   \n",
            "\n",
            "2021-11-02 05:42:03 (14.9 MB/s) - ‘full.zip.2’ saved [656363/656363]\n",
            "\n",
            "--2021-11-02 05:42:03--  https://raw.githubusercontent.com/ptpuyen1511/lab-01-SNA/master/facebook_combined.txt\n",
            "Resolving raw.githubusercontent.com (raw.githubusercontent.com)... 185.199.108.133, 185.199.109.133, 185.199.110.133, ...\n",
            "Connecting to raw.githubusercontent.com (raw.githubusercontent.com)|185.199.108.133|:443... connected.\n",
            "HTTP request sent, awaiting response... 200 OK\n",
            "Length: 854362 (834K) [text/plain]\n",
            "Saving to: ‘facebook_combined.txt.2’\n",
            "\n",
            "facebook_combined.t 100%[===================>] 834.34K  --.-KB/s    in 0.04s   \n",
            "\n",
            "2021-11-02 05:42:03 (18.5 MB/s) - ‘facebook_combined.txt.2’ saved [854362/854362]\n",
            "\n"
          ]
        }
      ]
    },
    {
      "cell_type": "code",
      "metadata": {
        "colab": {
          "base_uri": "https://localhost:8080/"
        },
        "id": "xi8Ewhvyu1kG",
        "outputId": "ea5d356f-a965-404e-f0bb-63b83bc89f3e"
      },
      "source": [
        "!unzip \"/content/full.zip\""
      ],
      "execution_count": null,
      "outputs": [
        {
          "output_type": "stream",
          "name": "stdout",
          "text": [
            "Archive:  /content/full.zip\n",
            "replace uci-forum.p? [y]es, [n]o, [A]ll, [N]one, [r]ename: y\n",
            "  inflating: uci-forum.p             \n",
            "replace uci.csv? [y]es, [n]o, [A]ll, [N]one, [r]ename: y\n",
            "  inflating: uci.csv                 \n",
            "replace github.p? [y]es, [n]o, [A]ll, [N]one, [r]ename: y\n",
            "  inflating: github.p                \n",
            "replace American Revolution.txt? [y]es, [n]o, [A]ll, [N]one, [r]ename: y\n",
            "  inflating: American Revolution.txt  \n",
            "replace Git-Nodes.csv? [y]es, [n]o, [A]ll, [N]one, [r]ename: y\n",
            "  inflating: Git-Nodes.csv           \n",
            "replace Git-Edges.csv? [y]es, [n]o, [A]ll, [N]one, [r]ename: y\n",
            "  inflating: Git-Edges.csv           \n"
          ]
        }
      ]
    },
    {
      "cell_type": "code",
      "metadata": {
        "id": "acGPh6vXJRtW"
      },
      "source": [
        "#import: networkx (abbr: nx), nxviz (abbr: nz), pyplot (abbr: plt), random\n",
        "import networkx as nx\n",
        "import nxviz as nz\n",
        "import matplotlib.pyplot as plt\n",
        "import pandas as pd\n",
        "import numpy as np\n",
        "\n",
        "#import: CircosPlot, combinations, defaultdict\n",
        "from itertools import combinations"
      ],
      "execution_count": null,
      "outputs": []
    },
    {
      "cell_type": "markdown",
      "metadata": {
        "id": "RFLRQr1bvH8A"
      },
      "source": [
        "# **Data extraction**\n"
      ]
    },
    {
      "cell_type": "code",
      "metadata": {
        "id": "AqaRwzbKvGCn"
      },
      "source": [
        "GithubEdges = pd.read_csv('/content/Git-Edges.csv')\n",
        "GithubNodes = pd.read_csv('/content/Git-Nodes.csv')\n",
        "uci = pd.read_csv('/content/uci.csv')\n",
        "#F= pd.read_csv(\"/content/facebook_combined.txt\",sep='\\s+',header=None)\n",
        "#F = pd.DataFrame(F)\n",
        "#F = nx.from_pandas_edgelist(df,0,1)"
      ],
      "execution_count": null,
      "outputs": []
    },
    {
      "cell_type": "code",
      "metadata": {
        "id": "OH4JeBNoyO2B"
      },
      "source": [
        "GithubEdges = pd.DataFrame(GithubEdges)\n",
        "GithubNodes = pd.DataFrame(GithubNodes)\n",
        "GithubNodes.index = GithubNodes['node']\n",
        "uci = pd.DataFrame(uci)\n",
        "uci['date'] = pd.to_datetime(uci['date'])"
      ],
      "execution_count": null,
      "outputs": []
    },
    {
      "cell_type": "code",
      "metadata": {
        "id": "qvaCTro4aLFy"
      },
      "source": [
        "GIT = nx.from_pandas_edgelist(GithubEdges,'users','projects')\n",
        "for i in sorted(GIT.nodes()):\n",
        "    GIT.nodes[i]['bipartite'] = GithubNodes.bipartite[i]\n",
        "\n",
        "df = pd.read_csv(\"/content/American Revolution.txt\")\n",
        "df = pd.DataFrame(df)\n",
        "df.index = list(df['Unnamed: 0'])\n",
        "data = []\n",
        "for i in df:\n",
        "  for j in df.index:\n",
        "    if df[i][j] == 1:\n",
        "      data.append([i,j])\n",
        "data = pd.DataFrame(data, columns = ['n1', 'n2'])\n",
        "AR = nx.from_pandas_edgelist(data,'n1','n2')\n",
        "\n",
        "UCI = nx.from_pandas_edgelist(uci,'student','forum')"
      ],
      "execution_count": null,
      "outputs": []
    },
    {
      "cell_type": "code",
      "metadata": {
        "colab": {
          "base_uri": "https://localhost:8080/"
        },
        "id": "iYOgZ8Nx1TN4",
        "outputId": "73c4ff87-84a7-4904-f8b4-d197fc57ada8"
      },
      "source": [
        "print(len(GIT.nodes()),len(GIT.edges()))\n",
        "print(len(UCI.nodes()),len(UCI.edges()))"
      ],
      "execution_count": null,
      "outputs": [
        {
          "output_type": "stream",
          "name": "stdout",
          "text": [
            "22353 20000\n",
            "627 814\n"
          ]
        }
      ]
    },
    {
      "cell_type": "markdown",
      "metadata": {
        "id": "7n1J_wK8K_UV"
      },
      "source": [
        "# **Plotting using nxviz**\n",
        "## Exercise\n",
        "Plotting using nxviz\n",
        "Now, you're going to practice creating a CircosPlot using nxviz! As a bonus preview of what's coming up in the next video, there's a little segment on the bipartite keyword in this exercise!\n",
        "\n",
        "Here, the degree centrality score of each node has been added to their metadata dictionary for you using the following code:\n",
        "\n",
        "Add the degree centrality score of each node to their metadata dictionary\n",
        "> dcs = nx.degree_centrality(G)\n",
        "<br> for n in G.nodes():\n",
        ">>    G.nodes[n]['centrality'] = dcs[n]\n",
        "\n",
        "If you want a refresher on degree centrality, check out the relevant video from the previous course - it is a way of computing the importance of a node!\n",
        "\n",
        "CircosPlot has been pre-imported for you from nxviz, along with NetworkX (as nx) and matplotlib.pyplot (as plt).\n",
        "## Instructions\n",
        "Plot the network G using a circos plot. \n",
        "<br> To do this:\n",
        "<br> - Create a CircosPlot object called c using the CircosPlot() function.\n",
        "Use the node_color and node_grouping parameters of CircosPlot() to color and group the nodes by the keyword 'bipartite'\n",
        "<br> - Use the node_order parameter of CircosPlot() to order the nodes by 'centrality'.\n",
        "Draw c to the screen and display it."
      ]
    },
    {
      "cell_type": "code",
      "metadata": {
        "colab": {
          "base_uri": "https://localhost:8080/",
          "height": 357
        },
        "id": "ZSiZjVYdSaKX",
        "outputId": "0552ab7c-54e8-47c9-9e2b-aba04c248877"
      },
      "source": [
        "# Create the CircosPlot object: c\n",
        "c = nz.CircosPlot(GIT)\n",
        "\n",
        "# Draw c to the screen\n",
        "c.draw()\n",
        "\n",
        "# Display the plot\n",
        "plt.show()"
      ],
      "execution_count": null,
      "outputs": [
        {
          "output_type": "display_data",
          "data": {
            "image/png": "[encoded data removed]",
            "text/plain": [
              "<Figure size 432x432 with 1 Axes>"
            ]
          },
          "metadata": {}
        }
      ]
    },
    {
      "cell_type": "markdown",
      "metadata": {
        "id": "U7fOxpxWUaNn"
      },
      "source": [
        "# **The bipartite keyword**\n",
        "## Exercise\n",
        "In the video, Eric introduced you to the 'bipartite' keyword. This keyword is part of a node's metadata dictionary, and can be assigned both when you add a node and after the node is added. Remember, though, that by definition, in a bipartite graph, a node cannot be connected to another node in the same partition.\n",
        "\n",
        "Here, you're going to write a function that returns the nodes from a given partition in a bipartite graph. In this case, the relevant partitions of the Github bipartite graph you'll be working with are 'projects' and 'users'.\n",
        "\n",
        "## Instructions\n",
        "\n",
        "*   Write a function called get_nodes_from_partition() which accepts two arguments - a bipartite graph G and a partition of G - and returns just the nodes from that partition.\n",
        "> * Iterate over all the nodes of G (not including the metadata) using a for loop. \n",
        "> * Access the 'bipartite' keyword of the current node's metadata dictionary. If it equals partition, append the current node to the list nodes.\n",
        "\n",
        "*   Use your get_nodes_from_partition() function together with the len() function to:\n",
        "> * Print the number of nodes in the 'projects' partition of G. \n",
        "> * Print the number of nodes in the 'users' partition of G."
      ]
    },
    {
      "cell_type": "code",
      "metadata": {
        "id": "FzHHDDYqUUv4",
        "colab": {
          "base_uri": "https://localhost:8080/"
        },
        "outputId": "4da7f8e6-e924-4cd9-c16d-83517d5b858a"
      },
      "source": [
        "# Define get_nodes_from_partition()\n",
        "def get_nodes_from_partition(G,partition):\n",
        "    # Initialize an empty list for nodes to be returned\n",
        "    nodes = []\n",
        "    # Iterate over each node in the graph G\n",
        "    for n in G.nodes():\n",
        "        # Check that the node belongs to the particular partition\n",
        "        if G.nodes[n]['bipartite'] == partition:\n",
        "            # If so, append it to the list of nodes\n",
        "            nodes.append(n)\n",
        "    return nodes\n",
        "# Test: \n",
        "# Print the number of nodes in the 'projects' partition\n",
        "print(len(get_nodes_from_partition(GIT, 'projects')))\n",
        "\n",
        "# Print the number of nodes in the 'users' partition\n",
        "print(len(get_nodes_from_partition(GIT, 'users')))"
      ],
      "execution_count": null,
      "outputs": [
        {
          "output_type": "stream",
          "name": "stdout",
          "text": [
            "11632\n",
            "10721\n"
          ]
        }
      ]
    },
    {
      "cell_type": "markdown",
      "metadata": {
        "id": "hKLCHBqnbU7j"
      },
      "source": [
        "# **Degree centrality distribution of user nodes**\n",
        "## Exercise\n",
        "\n",
        "In this exercise and the next one, you're going to do a final recap of material from the previous course. Your task is to plot the degree centrality distributions for each node partition in the bipartite version of the GitHub collaboration network. Here, you'll do this for the 'users' partition. In the next exercise, you'll do this for the 'projects' partition.\n",
        "<br>\n",
        "The function you wrote before get_nodes_from_partition(), has been loaded for you. Just to remind you, the \"degree centrality\" is a measure of node importance, and the \"degree centrality distribution\" is the list of degree centrality scores for all nodes in the graph. A few exercises ago, when you made the circos plot, we computed the degree centralities for you. You'll now practice doing this yourself!\n",
        "\n",
        "## Instructions\n",
        "\n",
        "* Import matplotlib.pyplot as plt.\n",
        "* Use your get_nodes_from_partition() function from the previous exercise to get a list called user_nodes corresponding to the 'users' nodes of G.\n",
        "* Using the nx.degree_centrality() function, compute the degree centralities for each node in G. Store the result as dcs.\n",
        "* Use a list comprehension to compute the degree centralities for each node in user_nodes. Store the result as user_dcs.\n",
        "> Remember, dcs is a dictionary, in which the keys are the nodes. The relevant nodes here are contained in user_nodes. How can you use this information to obtain the degree centralities of the user nodes? Use n as your iterator variable.\n",
        "* Plot a histogram of the degree distribution of users, using plt.hist() and user_dcs."
      ]
    },
    {
      "cell_type": "code",
      "metadata": {
        "colab": {
          "base_uri": "https://localhost:8080/",
          "height": 338
        },
        "id": "P4XbkWslb7kQ",
        "outputId": "e093c3da-107e-49dd-b079-b2071ed783ac"
      },
      "source": [
        "# Import matplotlib\n",
        "import matplotlib.pyplot as plt\n",
        "\n",
        "# Get the 'users' nodes: user_nodes\n",
        "user_nodes = get_nodes_from_partition(GIT,'users')\n",
        "\n",
        "# Compute the degree centralities: dcs\n",
        "dcs = nx.degree_centrality(GIT)\n",
        "\n",
        "# Get the degree centralities for user_nodes: user_dcs\n",
        "user_dcs = [dcs[n] for n in user_nodes]\n",
        "\n",
        "# Plot the degree distribution of users_dcs\n",
        "plt.figure(figsize=(35,10))\n",
        "plt.yscale('log')\n",
        "plt.hist(user_dcs, bins=20)\n",
        "plt.show()\n"
      ],
      "execution_count": null,
      "outputs": [
        {
          "output_type": "display_data",
          "data": {
            "image/png": "[encoded data removed]",
            "text/plain": [
              "<Figure size 2520x720 with 1 Axes>"
            ]
          },
          "metadata": {
            "needs_background": "light"
          }
        }
      ]
    },
    {
      "cell_type": "markdown",
      "metadata": {
        "id": "gbeExOJjcvH6"
      },
      "source": [
        "# **Degree centrality distribution of project nodes**\n",
        "## Exercise\n",
        "\n",
        "Now it's time to plot the degree centrality distribution for the 'projects' partition of G. The steps to do this are exactly the same as in the previous exercise. For your convenience, matplotlib.pyplot has been pre-imported as plt.\n",
        "\n",
        "Go for it!\n",
        "\n",
        "## Instructions\n",
        "* Obtain a list called project_nodes corresponding to the 'projects' nodes of G.\n",
        "* Using the nx.degree_centrality() function, compute the degree centralities for each node in G. Store the result as dcs.\n",
        "* Use a list comprehension to compute the degree centralities for each node in project_nodes. Store the result as project_dcs.\n",
        "* Plot a histogram of the degree distribution of projects, using plt.hist() and project_dcs"
      ]
    },
    {
      "cell_type": "code",
      "metadata": {
        "colab": {
          "base_uri": "https://localhost:8080/",
          "height": 338
        },
        "id": "i9yheyHxcmSl",
        "outputId": "a82c0f44-648a-4dc0-94a1-cb6d5215d1aa"
      },
      "source": [
        "# Get the 'projects' nodes: project_nodes\n",
        "project_nodes = get_nodes_from_partition(GIT,'projects')\n",
        "\n",
        "# Compute the degree centralities: dcs\n",
        "dcs = nx.degree_centrality(GIT)\n",
        "\n",
        "# Get the degree centralities for project_nodes: project_dcs\n",
        "project_dcs = [dcs[n] for n in project_nodes]\n",
        "\n",
        "# Plot the degree distribution of project_dcs\n",
        "plt.figure(figsize=(35,10))\n",
        "plt.yscale('log')\n",
        "plt.hist(project_dcs, bins=20)\n",
        "plt.show()"
      ],
      "execution_count": null,
      "outputs": [
        {
          "output_type": "display_data",
          "data": {
            "image/png": "[encoded data removed]",
            "text/plain": [
              "<Figure size 2520x720 with 1 Axes>"
            ]
          },
          "metadata": {
            "needs_background": "light"
          }
        }
      ]
    },
    {
      "cell_type": "markdown",
      "metadata": {
        "id": "JgbDofi0dcqq"
      },
      "source": [
        "# **Shared nodes in other partition**\n",
        "# Exercise\n",
        "\n",
        "In order to build up your concept of recommendation systems, we are going to start with the fundamentals. The focus here is on computing user similarity in bipartite graphs.\n",
        "\n",
        "Your job is to write a function that takes in two nodes, and returns the set of repository nodes that are shared between the two user nodes.\n",
        "\n",
        "You'll find the following methods and functions helpful in this exercise - .neighbors(), set(), and .intersection() - besides, of course, the shared_partition_nodes function that you will define!\n",
        "\n",
        "## Instructions\n",
        "* Write a function called shared_partition_nodes() that takes in 3 arguments - a graph G, node1, and node2 - and returns the set of nodes that are shared between node1 and node2.\n",
        "* Check that node1 and node2 belong to the same partition using an assert statement and the 'bipartite' keyword.\n",
        "> * Obtain the neighbors of node1 and store them as nbrs1.\n",
        "> * Obtain the neighbors of node2 and store them as nbrs2.\n",
        "> * Compute the overlap between nbrs1 and nbrs2 using the set .intersection() method.\n",
        "* Print the number of shared repositories between users 'u7909' and 'u2148' using your shared_partition_nodes() function together with the len() function."
      ]
    },
    {
      "cell_type": "code",
      "metadata": {
        "colab": {
          "base_uri": "https://localhost:8080/"
        },
        "id": "Ivsag707eFCS",
        "outputId": "3ce0798c-4c94-4e14-fbd3-9d6bd139dc48"
      },
      "source": [
        "def shared_partition_nodes(G,node1,node2):\n",
        "    # Check that the nodes belong to the same partition\n",
        "    assert G.nodes[node1]['bipartite'] == G.nodes[node2]['bipartite']\n",
        "\n",
        "    # Get neighbors of node 1: nbrs1\n",
        "    nbrs1 = G.neighbors(node1)\n",
        "    # Get neighbors of node 2: nbrs2\n",
        "    nbrs2 = G.neighbors(node2)\n",
        "\n",
        "    # Compute the overlap using set intersections\n",
        "    overlap = set(nbrs1).intersection(nbrs2)\n",
        "    return overlap\n",
        "\n",
        "# Print the number of shared repositories between users 'u7909' and 'u2148'\n",
        "print(len(shared_partition_nodes(GIT,'u7909','u2148')))"
      ],
      "execution_count": null,
      "outputs": [
        {
          "output_type": "stream",
          "name": "stdout",
          "text": [
            "1\n"
          ]
        }
      ]
    },
    {
      "cell_type": "markdown",
      "metadata": {
        "id": "3BypNCj-eXVw"
      },
      "source": [
        "# **User similarity metric**\n",
        "## Exercise\n",
        "\n",
        "Having written a function to calculate the set of nodes that are shared between two nodes, you're now going to write a function to compute a **metric of similarity** between two users: the number of projects shared between two users divided by the total number of nodes in the other partition. This can then be used to find users that are similar to one another.\n",
        "\n",
        "## Instructions\n",
        "* Complete the user_similarity() function to calculate the similarity between user1 and user2.\n",
        "> * Use assert statements to check that user1 and user2 belong to the 'users' partition.\n",
        "> * Use your shared_partition_nodes() function from the previous exercise to get the set of nodes shared between the two users user1 and user2.\n",
        "> * Return the fraction of nodes in the projects partition. That is, divide the number of shared_nodes by the total number of nodes in the 'projects' partition.\n",
        "* Compute the similarity score between users 'u4560' and 'u1880'. To do this:\n",
        "> * First obtain the nodes in the 'projects' partition using your get_nodes_from_partition() function.\n",
        "> * Then use your user_similarity() function to compute the score."
      ]
    },
    {
      "cell_type": "code",
      "metadata": {
        "colab": {
          "base_uri": "https://localhost:8080/"
        },
        "id": "1SLF2qcifI2g",
        "outputId": "663d4c1c-3de8-4631-f2e6-278e643bb375"
      },
      "source": [
        "def user_similarity(G, user1, user2, proj_nodes):\n",
        "    # Check that the nodes belong to the 'users' partition\n",
        "    assert G.nodes[user1]['bipartite'] == 'users'\n",
        "    assert G.nodes[user2]['bipartite'] == 'users'\n",
        "\n",
        "    # Get the set of nodes shared between the two users\n",
        "    shared_nodes = shared_partition_nodes(G,user1,user2)\n",
        "\n",
        "    # Return the fraction of nodes in the projects partition\n",
        "    return len(shared_nodes) / len(G.nodes())\n",
        "\n",
        "# Compute the similarity score between users 'u4560' and 'u1880'\n",
        "project_nodes = get_nodes_from_partition(GIT,'projects')\n",
        "similarity_score = user_similarity(GIT,'u4560','u1880','projects')\n",
        "\n",
        "print(similarity_score)"
      ],
      "execution_count": null,
      "outputs": [
        {
          "output_type": "stream",
          "name": "stdout",
          "text": [
            "0.0\n"
          ]
        }
      ]
    },
    {
      "cell_type": "markdown",
      "metadata": {
        "id": "9UfBcIAHfKO-"
      },
      "source": [
        "# **Find similar users**\n",
        "## Exercise\n",
        "You're now going to build upon what you've learned so far to write a function called most_similar_users() that finds the users most similar to another given user.\n",
        "\n",
        "The beginnings of this function have been written for you. A list of nodes, user_nodes has been created, which contains all of the users except the given user that has been passed into the function. Your task is to complete the function such that it finds the users most similar to this given user. You'll make use of your user_similarity() function from the previous exercise to help do this.\n",
        "\n",
        "A dictionary called similarities has been setup, in which the keys are the scores and the list of values are the nodes. If you've never seen a defaultdict before, don't worry - you'll learn more about it in Chapter 3! It functions exactly like a regular Python dictionary.\n",
        "\n",
        "## Instructions\n",
        "* Iterate over user_nodes and compute the similarity between user and each user_node (n) using your user_similarity() function. Store the result as similarity.\n",
        "* Append the score and node to the similarities dictionary. The key is the score - similarity - and the value is the node - n.\n",
        "* Compute the maximum similarity score. To do this, first access the keys (which contain the scores) of similarities using the .keys() method and then use the max() function. Store the result as max_similarity.\n",
        "* Return the list of users that share maximal similarity. This list of users is the value of the max_similarity key of similarities.\n",
        "* Use your most_similar_users() function to print the list of users most similar to the user 'u4560'."
      ]
    },
    {
      "cell_type": "code",
      "metadata": {
        "colab": {
          "base_uri": "https://localhost:8080/"
        },
        "id": "-dQzpWLtfmA7",
        "outputId": "0fccb0ab-793f-4471-a942-ac041ca691d0"
      },
      "source": [
        "from collections import defaultdict\n",
        "\n",
        "def most_similar_users(G, user, user_nodes, proj_nodes):\n",
        "    # Data checks\n",
        "    assert G.nodes[user]['bipartite'] == 'users'\n",
        "\n",
        "    # Get other nodes from user partition\n",
        "    user_nodes = set(user_nodes)\n",
        "    user_nodes.remove(user)\n",
        "\n",
        "    # Create the dictionary: similarities\n",
        "    similarities = defaultdict(list)\n",
        "    for n in user_nodes:\n",
        "        similarity = user_similarity(G, n, user, proj_nodes)\n",
        "        similarities[similarity].append(n)\n",
        "\n",
        "    # Compute maximum similarity score: max_similarity\n",
        "    max_similarity = max(similarities.keys())\n",
        "\n",
        "    # Return list of users that share maximal similarity\n",
        "    return similarities[max_similarity]\n",
        "\n",
        "user_nodes = get_nodes_from_partition(GIT, 'users')\n",
        "project_nodes = get_nodes_from_partition(GIT, 'projects')\n",
        "\n",
        "print(most_similar_users(GIT, 'u4560', user_nodes, project_nodes))"
      ],
      "execution_count": null,
      "outputs": [
        {
          "output_type": "stream",
          "name": "stdout",
          "text": [
            "['u5453', 'u17446']\n"
          ]
        }
      ]
    },
    {
      "cell_type": "markdown",
      "metadata": {
        "id": "LMq82m4FflcC"
      },
      "source": [
        "# **Recommend repositories**\n",
        "## Exercise\n",
        "\n",
        "You're close to the end! Here, the task is to practice using set differences, and you'll apply it to recommending repositories from a second user that the first user should contribute to.\n",
        "\n",
        "## Instructions\n",
        "* Write a function called recommend_repositories() that accepts 3 arguments - G, from_user, and to_user - and returns the repositories that the from_user is connected to that the to_user is not connected to.\n",
        "> * Get the set of repositories the from_user has contributed to and store it as from_repos. To do this, first obtain the neighbors of from_user and use the set() function on this.\n",
        "> * Get the set of repositories the to_user has contributed to and store it as to_repos.\n",
        "> * Using the .difference() method, return the repositories that the from_user is connected to that the to_user is not connected to.\n",
        "* Print the repositories to be recommended **from** 'u7909' **to** 'u2148'."
      ]
    },
    {
      "cell_type": "code",
      "metadata": {
        "colab": {
          "base_uri": "https://localhost:8080/"
        },
        "id": "M2q6UJF2gHxR",
        "outputId": "b5cae973-e241-4dc9-b872-6066714a3197"
      },
      "source": [
        "def recommend_repositories(G, from_user, to_user):\n",
        "    # Get the set of repositories that from_user has contributed to\n",
        "    from_repos = set(G.neighbors(from_user))\n",
        "    # Get the set of repositories that to_user has contributed to\n",
        "    to_repos = set(G.neighbors(to_user))\n",
        "\n",
        "    # Identify repositories that the from_user is connected to that the to_user is not connected to\n",
        "    return from_repos.difference(to_repos)\n",
        "\n",
        "# Print the repositories to be recommended\n",
        "print(recommend_repositories(GIT,'u7909','u2148'))"
      ],
      "execution_count": null,
      "outputs": [
        {
          "output_type": "stream",
          "name": "stdout",
          "text": [
            "{'p12466', 'p405', 'p918', 'p15697', 'p8146'}\n"
          ]
        }
      ]
    },
    {
      "cell_type": "markdown",
      "metadata": {
        "id": "y8RQwH6ngHNc"
      },
      "source": [
        "# **Reading graphs**\n",
        "## Exercise\n",
        "\n",
        "In this exercise, before you compute projections, you're going to practice working with one of NetworkX's disk I/O functions, read_edgelist(). read_edgelist() creates a graph from the edgelist file. The graph that you'll be working with is a bipartite graph describing the American Revolution. There are two node partitions - 'people' and 'clubs', and edges denote a person being a member of a club.\n",
        "\n",
        "## Instructions\n",
        "* Import networkx as nx.\n",
        "* Use nx.read_edgelist() to read in 'american-revolution.edgelist'.\n",
        "* In the dataset, 'clubs' do not have a . symbol in their node name. Use this information to assign nodes to 'clubs' or 'people' partitions. Remember the 'bipartite' keyword!\n",
        "* Print the edges of the graph."
      ]
    },
    {
      "cell_type": "code",
      "metadata": {
        "colab": {
          "base_uri": "https://localhost:8080/"
        },
        "id": "fghFmi0NgoUZ",
        "outputId": "e95ba61e-e9d7-4f3b-e638-2a800ab67c83"
      },
      "source": [
        "# Import networkx\n",
        "import networkx as nx\n",
        "\n",
        "# Read in the data: g\n",
        "# G = nx.read_edgelist('american-revolution.edgelist') -> AR\n",
        "G = AR\n",
        "# Assign nodes to 'clubs' or 'people' partitions\n",
        "for n, d in G.nodes(data=True):\n",
        "    if '.' in n:\n",
        "        G.nodes[n]['bipartite'] = 'people'\n",
        "    else:\n",
        "        G.nodes[n]['bipartite'] = 'clubs'\n",
        "        \n",
        "# Print the edges of the graph\n",
        "print(G.edges())"
      ],
      "execution_count": null,
      "outputs": [
        {
          "output_type": "stream",
          "name": "stdout",
          "text": [
            "[('StAndrewsLodge', 'Ash.Gilbert'), ('StAndrewsLodge', 'Barrett.Samuel'), ('StAndrewsLodge', 'Bell.William'), ('StAndrewsLodge', 'Blake.Increase'), ('StAndrewsLodge', 'Bray.George'), ('StAndrewsLodge', 'Brown.Hugh'), ('StAndrewsLodge', 'Burbeck.Edward'), ('StAndrewsLodge', 'Burbeck.William'), ('StAndrewsLodge', 'Cailleteau.Edward'), ('StAndrewsLodge', 'Callendar.Elisha'), ('StAndrewsLodge', 'Chipman.Seth'), ('StAndrewsLodge', 'Collins.Ezra'), ('StAndrewsLodge', 'Crafts.Thomas'), ('StAndrewsLodge', 'Deshon.Moses'), ('StAndrewsLodge', 'Doyle.Peter'), ('StAndrewsLodge', 'Ferrell.Ambrose'), ('StAndrewsLodge', 'Flagg.Josiah'), ('StAndrewsLodge', 'Gould.William'), ('StAndrewsLodge', 'Graham.James'), ('StAndrewsLodge', 'Gray.Wait'), ('StAndrewsLodge', 'Ham.William'), ('StAndrewsLodge', 'Hitchborn.Nathaniel'), ('StAndrewsLodge', 'Hoffins.John'), ('StAndrewsLodge', 'Inglish.Alexander'), ('StAndrewsLodge', 'Jarvis.Edward'), ('StAndrewsLodge', 'Jefferds.Unknown'), ('StAndrewsLodge', 'Jenkins.John'), ('StAndrewsLodge', 'Kerr.Walter'), ('StAndrewsLodge', 'Lewis.Phillip'), ('StAndrewsLodge', 'Marett.Phillip'), ('StAndrewsLodge', 'Marlton.John'), ('StAndrewsLodge', 'McAlpine.William'), ('StAndrewsLodge', 'Milliken.Thomas'), ('StAndrewsLodge', 'Moody.Samuel'), ('StAndrewsLodge', 'Nicholls.Unknown'), ('StAndrewsLodge', 'Obear.Israel'), ('StAndrewsLodge', 'Palfrey.William'), ('StAndrewsLodge', 'Peck.Samuel'), ('StAndrewsLodge', 'Phillips.John'), ('StAndrewsLodge', 'Potter.Edward'), ('StAndrewsLodge', 'Pulling.Richard'), ('StAndrewsLodge', 'Revere.Paul'), ('StAndrewsLodge', 'Seward.James'), ('StAndrewsLodge', 'Sloper.Ambrose'), ('StAndrewsLodge', 'Stanbridge.Henry'), ('StAndrewsLodge', 'Tabor.Philip'), ('StAndrewsLodge', 'Urann.Thomas'), ('StAndrewsLodge', 'Warren.Joseph'), ('StAndrewsLodge', 'Webb.Joseph'), ('StAndrewsLodge', 'Webster.Thomas'), ('StAndrewsLodge', 'Welles.Henry'), ('StAndrewsLodge', 'Whitten.John'), ('StAndrewsLodge', 'Wingfield.William'), ('Barrett.Samuel', 'LondonEnemies'), ('Crafts.Thomas', 'LoyalNine'), ('Peck.Samuel', 'TeaParty'), ('Revere.Paul', 'NorthCaucus'), ('Revere.Paul', 'LongRoomClub'), ('Revere.Paul', 'TeaParty'), ('Revere.Paul', 'LondonEnemies'), ('Urann.Thomas', 'NorthCaucus'), ('Urann.Thomas', 'TeaParty'), ('Warren.Joseph', 'NorthCaucus'), ('Warren.Joseph', 'LongRoomClub'), ('Warren.Joseph', 'BostonCommittee'), ('Warren.Joseph', 'LondonEnemies'), ('Welles.Henry', 'LoyalNine'), ('LoyalNine', 'Avery.John'), ('LoyalNine', 'Bass.Henry'), ('LoyalNine', 'Chase.Thomas'), ('LoyalNine', 'Cleverly.Stephen'), ('LoyalNine', 'Edes.Benjamin'), ('LoyalNine', 'Field.Joseph'), ('LoyalNine', 'Smith.John'), ('LoyalNine', 'Trott.George'), ('Avery.John', 'LondonEnemies'), ('Bass.Henry', 'NorthCaucus'), ('Bass.Henry', 'TeaParty'), ('Bass.Henry', 'LondonEnemies'), ('Chase.Thomas', 'NorthCaucus'), ('Chase.Thomas', 'TeaParty'), ('Chase.Thomas', 'LondonEnemies'), ('Edes.Benjamin', 'NorthCaucus'), ('NorthCaucus', 'Adams.John'), ('NorthCaucus', 'Adams.Samuel'), ('NorthCaucus', 'Allen.Dr'), ('NorthCaucus', 'Appleton.Nathaniel'), ('NorthCaucus', 'Ballard.John'), ('NorthCaucus', 'Barber.Nathaniel'), ('NorthCaucus', 'Boit.John'), ('NorthCaucus', 'Breck.William'), ('NorthCaucus', 'Burt.Benjamin'), ('NorthCaucus', 'Cazneau.Capt'), ('NorthCaucus', 'Chadwell.Mr'), ('NorthCaucus', 'Champney.Caleb'), ('NorthCaucus', 'Cheever.Ezekiel'), ('NorthCaucus', 'Chrysty.Thomas'), ('NorthCaucus', 'Church.Benjamin'), ('NorthCaucus', 'Collson.Adam'), ('NorthCaucus', 'Condy.JamesFoster'), ('NorthCaucus', 'Dennie.William'), ('NorthCaucus', 'Emmes.Samuel'), ('NorthCaucus', 'Grant.Moses'), ('NorthCaucus', 'Greenleaf.Joseph'), ('NorthCaucus', 'Hickling.William'), ('NorthCaucus', 'Hitchborn.Thomas'), ('NorthCaucus', 'Holmes.Nathaniel'), ('NorthCaucus', 'Hoskins.William'), ('NorthCaucus', 'Johonnott.Gabriel'), ('NorthCaucus', 'Kent.Benjamin'), ('NorthCaucus', 'Kimball.Thomas'), ('NorthCaucus', 'Lowell.John'), ('NorthCaucus', 'Matchett.John'), ('NorthCaucus', 'Merrit.John'), ('NorthCaucus', 'Molineux.William'), ('NorthCaucus', 'Morton.Perez'), ('NorthCaucus', 'Palms.Richard'), ('NorthCaucus', 'Parkman.Elias'), ('NorthCaucus', 'Pearce.IsaacJun'), ('NorthCaucus', 'Pearce.Isaac'), ('NorthCaucus', 'Peck.Thomas'), ('NorthCaucus', 'Proctor.Edward'), ('NorthCaucus', 'Pulling.John'), ('NorthCaucus', 'Ruddock.Abiel'), ('NorthCaucus', 'Sharp.Gibbens'), ('NorthCaucus', 'Sigourney.John'), ('NorthCaucus', 'Stoddard.Asa'), ('NorthCaucus', 'Stoddard.Jonathan'), ('NorthCaucus', 'Story.Elisha'), ('NorthCaucus', 'Swan.James'), ('NorthCaucus', 'Symmes.Eben'), ('NorthCaucus', 'Symmes.John'), ('NorthCaucus', 'Tileston.Thomas'), ('NorthCaucus', 'White.Samuel'), ('NorthCaucus', 'Winthrop.John'), ('NorthCaucus', 'Young.Thomas'), ('Adams.John', 'LongRoomClub'), ('Adams.Samuel', 'LongRoomClub'), ('Adams.Samuel', 'BostonCommittee'), ('Adams.Samuel', 'LondonEnemies'), ('Appleton.Nathaniel', 'BostonCommittee'), ('Barber.Nathaniel', 'TeaParty'), ('Barber.Nathaniel', 'BostonCommittee'), ('Barber.Nathaniel', 'LondonEnemies'), ('Cheever.Ezekiel', 'LondonEnemies'), ('Church.Benjamin', 'LongRoomClub'), ('Church.Benjamin', 'BostonCommittee'), ('Church.Benjamin', 'LondonEnemies'), ('Collson.Adam', 'TeaParty'), ('Condy.JamesFoster', 'TeaParty'), ('Condy.JamesFoster', 'LondonEnemies'), ('Dennie.William', 'BostonCommittee'), ('Grant.Moses', 'TeaParty'), ('Grant.Moses', 'LondonEnemies'), ('Greenleaf.Joseph', 'BostonCommittee'), ('Greenleaf.Joseph', 'LondonEnemies'), ('Molineux.William', 'TeaParty'), ('Molineux.William', 'BostonCommittee'), ('Parkman.Elias', 'LondonEnemies'), ('Proctor.Edward', 'TeaParty'), ('Proctor.Edward', 'LondonEnemies'), ('Pulling.John', 'LondonEnemies'), ('Ruddock.Abiel', 'LondonEnemies'), ('Story.Elisha', 'TeaParty'), ('Swan.James', 'TeaParty'), ('Winthrop.John', 'LondonEnemies'), ('Young.Thomas', 'TeaParty'), ('Young.Thomas', 'BostonCommittee'), ('LongRoomClub', 'Cooper.Samuel'), ('LongRoomClub', 'Cooper.William'), ('LongRoomClub', 'Dawes.Thomas'), ('LongRoomClub', 'Dexter.Samuel'), ('LongRoomClub', 'Fleet.Thomas'), ('LongRoomClub', 'Hancock.John'), ('LongRoomClub', 'Lambert.John'), ('LongRoomClub', 'Otis.James'), ('LongRoomClub', 'Phillips.Samuel'), ('LongRoomClub', 'Quincy.Josiah'), ('LongRoomClub', 'Tyler.Royall'), ('LongRoomClub', 'Winslow.John'), ('Cooper.Samuel', 'TeaParty'), ('Hancock.John', 'LondonEnemies'), ('Otis.James', 'BostonCommittee'), ('Quincy.Josiah', 'BostonCommittee'), ('TeaParty', 'Barnard.Samuel'), ('TeaParty', 'Bolter.Thomas'), ('TeaParty', 'Bradlee.David'), ('TeaParty', 'Bradlee.Josiah'), ('TeaParty', 'Bradlee.Nathaniel'), ('TeaParty', 'Bradlee.Thomas'), ('TeaParty', 'Bewer.James'), ('TeaParty', 'Bruce.Stephen'), ('TeaParty', 'Burton.Benjamin'), ('TeaParty', 'Campbell.Nicholas'), ('TeaParty', 'Clarke.Benjamin'), ('TeaParty', 'Cochran.John'), ('TeaParty', 'Colesworthy.Gilbert'), ('TeaParty', 'Collier.Gershom'), ('TeaParty', 'Crane.John'), ('TeaParty', 'Davis.Robert'), ('TeaParty', 'Dolbear.Edward'), ('TeaParty', 'Eaton.Joseph'), ('TeaParty', 'Eayres.Joseph'), ('TeaParty', 'Eckley.Unknown'), ('TeaParty', 'Etheridge.William'), ('TeaParty', 'Fenno.Samuel'), ('TeaParty', 'Foster.Samuel'), ('TeaParty', 'Frothingham.Nathaniel'), ('TeaParty', 'Gammell.John'), ('TeaParty', 'Gore.Samuel'), ('TeaParty', 'Greene.Nathaniel'), ('TeaParty', 'Hammond.Samuel'), ('TeaParty', 'Hendley.William'), ('TeaParty', 'Hewes.George'), ('TeaParty', 'Hicks.John'), ('TeaParty', 'Hobbs.Samuel'), ('TeaParty', 'Hooton.John'), ('TeaParty', 'Howard.Samuel'), ('TeaParty', 'Howe.Edward'), ('TeaParty', 'Hunnewell.Jonathan'), ('TeaParty', 'Hunnewell.Richard'), ('TeaParty', 'Hunstable.Thomas'), ('TeaParty', 'Hunt.Abraham'), ('TeaParty', 'Ingersoll.Daniel'), ('TeaParty', 'Kinnison.David'), ('TeaParty', 'Lee.Joseph'), ('TeaParty', 'Lincoln.Amos'), ('TeaParty', 'Loring.Matthew'), ('TeaParty', 'Machin.Thomas'), ('TeaParty', 'MacKintosh.Capt'), ('TeaParty', 'MacNeil.Archibald'), ('TeaParty', 'May.John'), ('TeaParty', 'Melville.Thomas'), ('TeaParty', 'Moore.Thomas'), ('TeaParty', 'Morse.Anthony'), ('TeaParty', 'Mountford.Joseph'), ('TeaParty', 'Newell.Eliphelet'), ('TeaParty', 'Palmer.Joseph'), ('TeaParty', 'Parker.Jonathan'), ('TeaParty', 'Payson.Joseph'), ('TeaParty', 'Peters.John'), ('TeaParty', 'Pierce.William'), ('TeaParty', 'Pitts.Lendall'), ('TeaParty', 'Porter.Thomas'), ('TeaParty', 'Prentiss.Henry'), ('TeaParty', 'Prince.John'), ('TeaParty', 'Purkitt.Henry'), ('TeaParty', 'Randall.John'), ('TeaParty', 'Roby.Joseph'), ('TeaParty', 'Russell.John'), ('TeaParty', 'Russell.William'), ('TeaParty', 'Sessions.Robert'), ('TeaParty', 'Shed.Joseph'), ('TeaParty', 'Simpson.Benjamin'), ('TeaParty', 'Slater.Peter'), ('TeaParty', 'Spear.Thomas'), ('TeaParty', 'Sprague.Samuel'), ('TeaParty', 'Spurr.John'), ('TeaParty', 'Starr.James'), ('TeaParty', 'Stearns.Phineas'), ('TeaParty', 'Stevens.Ebenezer'), ('TeaParty', 'Wheeler.Josiah'), ('TeaParty', 'Williams.Jeremiah'), ('TeaParty', 'Williams.Thomas'), ('TeaParty', 'Willis.Nathaniel'), ('TeaParty', 'Wyeth.Joshua'), ('Eayres.Joseph', 'LondonEnemies'), ('BostonCommittee', 'Boynton.Richard'), ('BostonCommittee', 'Bradford.John'), ('BostonCommittee', 'Davis.Caleb'), ('BostonCommittee', 'Greenleaf.William'), ('BostonCommittee', 'Hill.Alexander'), ('BostonCommittee', 'Mackay.William'), ('BostonCommittee', 'Pierpont.Robert'), ('BostonCommittee', 'Powell.William'), ('BostonCommittee', 'Sweetser.John'), ('BostonCommittee', 'Wendell.Oliver'), ('Boynton.Richard', 'LondonEnemies'), ('Bradford.John', 'LondonEnemies'), ('Davis.Caleb', 'LondonEnemies'), ('Greenleaf.William', 'LondonEnemies'), ('Powell.William', 'LondonEnemies'), ('Wendell.Oliver', 'LondonEnemies'), ('LondonEnemies', 'Austin.Benjamin'), ('LondonEnemies', 'Austin.Samuel'), ('LondonEnemies', 'Baldwin.Cyrus'), ('LondonEnemies', 'Boyer.Peter'), ('LondonEnemies', 'Brackett.Jos'), ('LondonEnemies', 'Brimmer.Herman'), ('LondonEnemies', 'Brimmer.Martin'), ('LondonEnemies', 'Broomfield.Henry'), ('LondonEnemies', 'Brown.Enoch'), ('LondonEnemies', 'Brown.John'), ('LondonEnemies', 'Davis.Edward'), ('LondonEnemies', 'Davis.William'), ('LondonEnemies', 'Foster.Bos'), ('LondonEnemies', 'Gill.Moses'), ('LondonEnemies', 'Greenough.Newn'), ('LondonEnemies', 'Hancock.Eben'), ('LondonEnemies', 'Hopkins.Caleb'), ('LondonEnemies', 'Isaac.Pierce'), ('LondonEnemies', 'Ivers.James'), ('LondonEnemies', 'Jarvis.Charles'), ('LondonEnemies', 'Johnston.Eben'), ('LondonEnemies', 'Marshall.Thomas'), ('LondonEnemies', 'Marson.John'), ('LondonEnemies', 'Mason.Jonathan'), ('LondonEnemies', 'Noyces.Nat'), ('LondonEnemies', 'Partridge.Sam'), ('LondonEnemies', 'Phillips.William'), ('LondonEnemies', 'Pitts.John'), ('LondonEnemies', 'Pitts.Samuel'), ('LondonEnemies', 'Prince.Job'), ('LondonEnemies', 'Roylson.Thomas'), ('LondonEnemies', 'Vernon.Fortesque'), ('LondonEnemies', 'Waldo.Benjamin'), ('LondonEnemies', 'Whitwell.Samuel'), ('LondonEnemies', 'Whitwell.William'), ('LondonEnemies', 'Williams.Jonathan')]\n"
          ]
        }
      ]
    },
    {
      "cell_type": "markdown",
      "metadata": {
        "id": "nPtNnf_8gzJB"
      },
      "source": [
        "# **Computing projection**\n",
        "## Exercise\n",
        "It's now time to try your hand at computing the projection of a bipartite graph to the nodes on one of its partitions. This will help you gain practice with converting between a bipartite version of a graph and its unipartite projections. Remember from the video that the \"projection\" of a graph onto one of its partitions is the connectivity of the nodes in that partition conditioned on connections to nodes on the other partition. Made more concretely, you can think of the \"connectivity of customers based on shared purchases\".\n",
        "\n",
        "To help you get started, here's a hint on list comprehensions. List comprehensions can include conditions, so if you want to filter a graph for a certain type of node, you can do: [n for n, d in G.nodes(data=True) if d['key'] == 'some_value'].\n",
        "\n",
        "## Instructions\n",
        "* Prepare the people nodelist using a list comprehension. If the 'bipartite' keyword of a node n in G equals 'people', then that node should be part of the nodelist.\n",
        "* Prepare the clubs nodelist by iterating over the nodes of G, including the metadata. Here, note that you have to check if the 'bipartite' keyword of the metadata dictionary d equals 'clubs'. Note: This is simply an alternate way of creating the nodelist. You do not have to iterate over the metadata - you can follow the same approach you used to create the people nodelist, simply checking for 'clubs' instead. We're asking you to use the other approach here so you get practice with both.\n",
        "* Use nx.bipartite.projected_graph() to compute the people and clubs projections. Store the results as peopleG and clubsG.\n",
        "> * This function takes in two arguments: The graph G, and the nodelist."
      ]
    },
    {
      "cell_type": "code",
      "metadata": {
        "id": "d4zUluvDgrei"
      },
      "source": [
        "# Prepare the nodelists needed for computing projections: people, clubs\n",
        "# This exercise shows you two ways to do it, one with `data=True` and one without.\n",
        "people = [n for n in G.nodes() if G.nodes[n]['bipartite'] == 'people']\n",
        "clubs = [n for n, d in G.nodes(data=True) if d['bipartite'] == 'clubs']\n",
        "\n",
        "# Compute the people and clubs projections: peopleG, clubsG\n",
        "peopleG = nx.bipartite.projected_graph(G,people)\n",
        "clubsG = nx.bipartite.projected_graph(G,clubs)"
      ],
      "execution_count": null,
      "outputs": []
    },
    {
      "cell_type": "markdown",
      "metadata": {
        "id": "apo_VpzQhu3r"
      },
      "source": [
        "\n",
        "# **Plot degree centrality on projection**\n",
        "## Exercise\n",
        "Here, you're going to compare the degree centrality distributions for each of the following graphs: the original graph G, the people graph projection peopleG, and the clubs graph projection clubsG. This will reinforce the difference in degree centrality score computation between bipartite and unipartite versions of degree centrality metrics. The node lists people and clubs have been pre-loaded for you.\n",
        "\n",
        "Recall from the video that the bipartite functions require passing in a container of nodes, but will return all degree centrality scores nonetheless. Remember also that degree centrality scores are stored as dictionaries (mapping node to score).\n",
        "\n",
        "# Instructions\n",
        "* Plot the degree centrality distribution of the original graph G, using the degree_centrality function from the bipartite module: nx.bipartite.degree_centrality(). It takes in two arguments: The graph G, and one of the node lists (people or clubs).\n",
        "* Plot the degree centrality distribution of the peopleG graph, using the normal/non-bipartite degree_centrality function from NetworkX: nx.degree_centrality().\n",
        "* Plot the degree centrality distribution of the clubsG graph, using the normal/non-bipartite degree_centrality function from NetworkX: nx.degree_centrality()."
      ]
    },
    {
      "cell_type": "code",
      "metadata": {
        "colab": {
          "base_uri": "https://localhost:8080/",
          "height": 809
        },
        "id": "_Oas6PTMhujL",
        "outputId": "88cdde33-0e21-4999-847c-dac5db48d669"
      },
      "source": [
        "# Plot the degree centrality distribution of both node partitions from the original graph\n",
        "plt.figure()\n",
        "original_dc = nx.bipartite.degree_centrality(G,people)\n",
        "# Remember that you can directly plot dictionary values.\n",
        "plt.hist(original_dc.values(), alpha=0.5)\n",
        "plt.yscale('log')\n",
        "plt.title('Bipartite degree centrality')\n",
        "plt.show()\n",
        "\n",
        "\n",
        "# Plot the degree centrality distribution of the peopleG graph\n",
        "plt.figure()  \n",
        "people_dc = nx.degree_centrality(peopleG)\n",
        "plt.hist(people_dc.values())\n",
        "plt.yscale('log')\n",
        "plt.title('Degree centrality of people partition')\n",
        "plt.show()\n",
        "\n",
        "# Plot the degree centrality distribution of the clubsG graph\n",
        "plt.figure() \n",
        "clubs_dc = nx.degree_centrality(clubsG)\n",
        "plt.hist(clubs_dc.values())\n",
        "plt.yscale('log')\n",
        "plt.title('Degree centrality of clubs partition')\n",
        "plt.show()"
      ],
      "execution_count": null,
      "outputs": [
        {
          "output_type": "display_data",
          "data": {
            "image/png": "[encoded data removed]",
            "text/plain": [
              "<Figure size 432x288 with 1 Axes>"
            ]
          },
          "metadata": {
            "needs_background": "light"
          }
        },
        {
          "output_type": "display_data",
          "data": {
            "image/png": "[encoded data removed]",
            "text/plain": [
              "<Figure size 432x288 with 1 Axes>"
            ]
          },
          "metadata": {
            "needs_background": "light"
          }
        },
        {
          "output_type": "display_data",
          "data": {
            "image/png": "[encoded data removed]",
            "text/plain": [
              "<Figure size 432x288 with 1 Axes>"
            ]
          },
          "metadata": {
            "needs_background": "light"
          }
        }
      ]
    },
    {
      "cell_type": "markdown",
      "metadata": {
        "id": "ARnaB0ygiKip"
      },
      "source": [
        "\n",
        "# **Compute adjacency matrix**\n",
        "## Exercise\n",
        "Now, you'll get some practice using matrices and sparse matrix multiplication to compute projections! In this exercise, you'll use the matrix multiplication operator @ that was introduced in Python 3.5.\n",
        "\n",
        "You'll continue working with the American Revolution graph. The two partitions of interest here are 'people' and 'clubs'.\n",
        "\n",
        "## Instructions\n",
        "* Get the list of people and list of clubs from the graph G using the get_nodes_from_partition() function that you defined in the previous chapter. This function accepts two parameters: A graph, and a partition.\n",
        "* Compute the biadjacency matrix using nx.bipartite.biadjacency_matrix(), setting the row_order parameter to people_nodes and the column_order parameter to clubs_nodes. Remember to also pass in the graph G.\n",
        "* Compute the user-user projection by multiplying (with the @ operator) the biadjacency matrix bi_matrix by its transposition, bi_matrix.T."
      ]
    },
    {
      "cell_type": "code",
      "metadata": {
        "colab": {
          "base_uri": "https://localhost:8080/"
        },
        "id": "zRI9UxGiiake",
        "outputId": "4ca4185a-cbd1-4a5c-a600-64fa792f03ac"
      },
      "source": [
        "# Get the list of people and list of clubs from the graph: people_nodes, clubs_nodes\n",
        "people_nodes = get_nodes_from_partition(G,'people')\n",
        "clubs_nodes = get_nodes_from_partition(G,'clubs')\n",
        "\n",
        "# Compute the biadjacency matrix: bi_matrix\n",
        "bi_matrix = nx.bipartite.biadjacency_matrix(G, row_order=people_nodes, column_order=clubs_nodes)\n",
        "\n",
        "# Compute the user-user projection: user_matrix\n",
        "user_matrix = bi_matrix@bi_matrix.T\n",
        "\n",
        "print(user_matrix)"
      ],
      "execution_count": null,
      "outputs": [
        {
          "output_type": "stream",
          "name": "stdout",
          "text": [
            "  (0, 52)\t1\n",
            "  (0, 51)\t1\n",
            "  (0, 50)\t1\n",
            "  (0, 49)\t1\n",
            "  (0, 48)\t1\n",
            "  (0, 47)\t1\n",
            "  (0, 46)\t1\n",
            "  (0, 45)\t1\n",
            "  (0, 44)\t1\n",
            "  (0, 43)\t1\n",
            "  (0, 42)\t1\n",
            "  (0, 41)\t1\n",
            "  (0, 40)\t1\n",
            "  (0, 39)\t1\n",
            "  (0, 38)\t1\n",
            "  (0, 37)\t1\n",
            "  (0, 36)\t1\n",
            "  (0, 35)\t1\n",
            "  (0, 34)\t1\n",
            "  (0, 33)\t1\n",
            "  (0, 32)\t1\n",
            "  (0, 31)\t1\n",
            "  (0, 30)\t1\n",
            "  (0, 29)\t1\n",
            "  (0, 28)\t1\n",
            "  :\t:\n",
            "  (253, 215)\t1\n",
            "  (253, 211)\t1\n",
            "  (253, 210)\t1\n",
            "  (253, 209)\t1\n",
            "  (253, 208)\t1\n",
            "  (253, 144)\t1\n",
            "  (253, 119)\t1\n",
            "  (253, 112)\t1\n",
            "  (253, 101)\t1\n",
            "  (253, 100)\t1\n",
            "  (253, 99)\t1\n",
            "  (253, 95)\t1\n",
            "  (253, 81)\t1\n",
            "  (253, 80)\t1\n",
            "  (253, 77)\t1\n",
            "  (253, 75)\t1\n",
            "  (253, 73)\t1\n",
            "  (253, 66)\t1\n",
            "  (253, 62)\t1\n",
            "  (253, 55)\t1\n",
            "  (253, 54)\t1\n",
            "  (253, 53)\t1\n",
            "  (253, 47)\t1\n",
            "  (253, 41)\t1\n",
            "  (253, 1)\t1\n"
          ]
        }
      ]
    },
    {
      "cell_type": "markdown",
      "metadata": {
        "id": "lfWjjJuhiZ48"
      },
      "source": [
        "# **Find shared membership: Transposition**\n",
        "## Exercise\n",
        "As you may have observed, you lose the metadata from a graph when you go to a sparse matrix representation. You're now going to learn how to impute the metadata back so that you can learn more about shared membership.\n",
        "\n",
        "The user_matrix you computed in the previous exercise has been preloaded into your workspace.\n",
        "\n",
        "Here, the np.where() function will prove useful. This is what it does: given an array, say, a = [1, 5, 9, 5], if you want to get the indices where the value is equal to 5, you can use idxs = np.where(a == 5). This gives you back an array in a tuple, (array([1, 3]),). To access those indices, you would want to index into the tuple as idxs[0].\n",
        "\n",
        "## Instructions\n",
        "* Find out the names of people who were members of the most number of clubs.\n",
        "> * To do this, first compute diag by using the .diagonal() method on user_matrix.\n",
        "> * Then, using np.where(), select those indices where diag equals diag.max(). This returns a tuple: Make sure you access the relevant indices by indexing into the tuple with [0].\n",
        "> * Iterate over indices and print out each index i of people_nodes using the provided print() function.\n",
        "* Set the diagonal to zero and convert it to a \"coordinate matrix format\". This code has been provided for you in the answer.\n",
        "* Find pairs of users who shared membership in the most number of clubs.\n",
        "> * Using np.where(), access the indices where users_coo.data equals users_coo.data.max().\n",
        "> * Iterate over indices2 and print out each index idx of people_node's users_coo.row and users_coo.col."
      ]
    },
    {
      "cell_type": "code",
      "metadata": {
        "colab": {
          "base_uri": "https://localhost:8080/"
        },
        "id": "ouogkhe9i6C4",
        "outputId": "ae134de3-1ad4-4faa-d641-4beea89f39c0"
      },
      "source": [
        "# Find out the names of people who were members of the most number of clubs\n",
        "diag = user_matrix.diagonal()\n",
        "indices = np.where(diag == diag.max())[0]  \n",
        "print('Number of clubs: {0}'.format(diag.max()))\n",
        "print('People with the most number of memberships:')\n",
        "for i in indices:\n",
        "    print('- {0}'.format(people_nodes[i]))\n",
        "\n",
        "# Set the diagonal to zero and convert it to a coordinate matrix format\n",
        "user_matrix.setdiag(0)\n",
        "users_coo = user_matrix.tocoo()\n",
        "\n",
        "# Find pairs of users who shared membership in the most number of clubs\n",
        "indices2 = np.where(users_coo.data == users_coo.data.max())[0]\n",
        "print('People with most number of shared memberships:')\n",
        "for idx in indices2:\n",
        "    print('- {0}, {1}'.format(people_nodes[users_coo.row[idx]], people_nodes[users_coo.col[idx]]))"
      ],
      "execution_count": null,
      "outputs": [
        {
          "output_type": "stream",
          "name": "stdout",
          "text": [
            "Number of clubs: 5\n",
            "People with the most number of memberships:\n",
            "- Revere.Paul\n",
            "- Warren.Joseph\n",
            "People with most number of shared memberships:\n",
            "- Revere.Paul, Warren.Joseph\n",
            "- Warren.Joseph, Church.Benjamin\n",
            "- Warren.Joseph, Adams.Samuel\n",
            "- Warren.Joseph, Revere.Paul\n",
            "- Bass.Henry, Chase.Thomas\n",
            "- Chase.Thomas, Bass.Henry\n",
            "- Adams.Samuel, Church.Benjamin\n",
            "- Adams.Samuel, Warren.Joseph\n",
            "- Church.Benjamin, Adams.Samuel\n",
            "- Church.Benjamin, Warren.Joseph\n"
          ]
        }
      ]
    },
    {
      "cell_type": "markdown",
      "metadata": {
        "id": "nqi602jGi6UO"
      },
      "source": [
        "# **Make nodelist**\n",
        "## Exercise\n",
        "\n",
        "You're now going to practice converting graphs to pandas representation. If you have taken any of DataCamp's pandas courses, you will know that there is a DataFrame.to_csv('filename.csv') method that lets you save it as a CSV file, which is a human-readable version. The main concept we hope you take away from here is the process of converting a graph to a list of records.\n",
        "\n",
        "Start by re-familiarizing yourself with the graph data structure by calling G.nodes(data=True)[0] in the IPython Shell to examine one node in the graph.\n",
        "\n",
        "## Instructions\n",
        "* Initialize an empty node list called nodelist.\n",
        "* Use a for loop to iterate over the nodes of the G_people. Inside the loop:\n",
        "> * Update the nodeinfo dictionary using the .update() method with d as the argument.\n",
        "> * Append the nodeinfo dictionary to nodelist.\n",
        "* Create a pandas DataFrame of the nodelist called node_df using the pd.DataFrame() function."
      ]
    },
    {
      "cell_type": "code",
      "metadata": {
        "colab": {
          "base_uri": "https://localhost:8080/",
          "height": 229
        },
        "id": "h8D6k-erj3J2",
        "outputId": "11514a44-631b-45f9-c63d-0205d54a36fb"
      },
      "source": [
        "# Initialize a list to store each edge as a record: nodelist\n",
        "nodelist = []\n",
        "for n, d in G_people.nodes(data=True):\n",
        "    # nodeinfo stores one \"record\" of data as a dict\n",
        "    nodeinfo = {'person': n} \n",
        "    \n",
        "    # Update the nodeinfo dictionary \n",
        "    nodeinfo.update(d)\n",
        "    \n",
        "    # Append the nodeinfo to the node list\n",
        "    nodelist.append(nodeinfo)\n",
        "    \n",
        "\n",
        "# Create a pandas DataFrame of the nodelist: node_df\n",
        "node_df = pd.DataFrame(nodelist)\n",
        "print(node_df.head())"
      ],
      "execution_count": null,
      "outputs": [
        {
          "output_type": "error",
          "ename": "NameError",
          "evalue": "ignored",
          "traceback": [
            "\u001b[0;31m---------------------------------------------------------------------------\u001b[0m",
            "\u001b[0;31mNameError\u001b[0m                                 Traceback (most recent call last)",
            "\u001b[0;32m<ipython-input-104-8f0a8fa6e605>\u001b[0m in \u001b[0;36m<module>\u001b[0;34m()\u001b[0m\n\u001b[1;32m      1\u001b[0m \u001b[0;31m# Initialize a list to store each edge as a record: nodelist\u001b[0m\u001b[0;34m\u001b[0m\u001b[0;34m\u001b[0m\u001b[0;34m\u001b[0m\u001b[0m\n\u001b[1;32m      2\u001b[0m \u001b[0mnodelist\u001b[0m \u001b[0;34m=\u001b[0m \u001b[0;34m[\u001b[0m\u001b[0;34m]\u001b[0m\u001b[0;34m\u001b[0m\u001b[0;34m\u001b[0m\u001b[0m\n\u001b[0;32m----> 3\u001b[0;31m \u001b[0;32mfor\u001b[0m \u001b[0mn\u001b[0m\u001b[0;34m,\u001b[0m \u001b[0md\u001b[0m \u001b[0;32min\u001b[0m \u001b[0mG_people\u001b[0m\u001b[0;34m.\u001b[0m\u001b[0mnodes\u001b[0m\u001b[0;34m(\u001b[0m\u001b[0mdata\u001b[0m\u001b[0;34m=\u001b[0m\u001b[0;32mTrue\u001b[0m\u001b[0;34m)\u001b[0m\u001b[0;34m:\u001b[0m\u001b[0;34m\u001b[0m\u001b[0;34m\u001b[0m\u001b[0m\n\u001b[0m\u001b[1;32m      4\u001b[0m     \u001b[0;31m# nodeinfo stores one \"record\" of data as a dict\u001b[0m\u001b[0;34m\u001b[0m\u001b[0;34m\u001b[0m\u001b[0;34m\u001b[0m\u001b[0m\n\u001b[1;32m      5\u001b[0m     \u001b[0mnodeinfo\u001b[0m \u001b[0;34m=\u001b[0m \u001b[0;34m{\u001b[0m\u001b[0;34m'person'\u001b[0m\u001b[0;34m:\u001b[0m \u001b[0mn\u001b[0m\u001b[0;34m}\u001b[0m\u001b[0;34m\u001b[0m\u001b[0;34m\u001b[0m\u001b[0m\n",
            "\u001b[0;31mNameError\u001b[0m: name 'G_people' is not defined"
          ]
        }
      ]
    },
    {
      "cell_type": "markdown",
      "metadata": {
        "id": "g_ddftzDj3a_"
      },
      "source": [
        "# **Make nodelist**\n",
        "## Exercise\n",
        "\n",
        "You're now going to practice converting graphs to pandas representation. If you have taken any of DataCamp's pandas courses, you will know that there is a DataFrame.to_csv('filename.csv') method that lets you save it as a CSV file, which is a human-readable version. The main concept we hope you take away from here is the process of converting a graph to a list of records.\n",
        "\n",
        "Start by re-familiarizing yourself with the graph data structure by calling G.nodes(data=True)[0] in the IPython Shell to examine one node in the graph.\n",
        "\n",
        "## Instructions\n",
        "\n",
        "* Initialize an empty node list called nodelist.\n",
        "* Use a for loop to iterate over the nodes of the > * G_people. Inside the loop:\n",
        "Update the nodeinfo dictionary using the .update() method with d as the argument.\n",
        "> * Append the nodeinfo dictionary to nodelist.\n",
        "* Create a pandas DataFrame of the nodelist called node_df using the pd.DataFrame() function."
      ]
    },
    {
      "cell_type": "code",
      "metadata": {
        "id": "D19JreEZkvWo"
      },
      "source": [
        "# Initialize a list to store each edge as a record: nodelist\n",
        "nodelist = []\n",
        "for n, d in G_people.nodes(data=True):\n",
        "    # nodeinfo stores one \"record\" of data as a dict\n",
        "    nodeinfo = {'person': n} \n",
        "    \n",
        "    # Update the nodeinfo dictionary \n",
        "    nodeinfo.update(d)\n",
        "    \n",
        "    # Append the nodeinfo to the node list\n",
        "    nodelist.append(nodeinfo)\n",
        "    \n",
        "\n",
        "# Create a pandas DataFrame of the nodelist: node_df\n",
        "node_df = pd.DataFrame(nodelist)\n",
        "print(node_df.head())"
      ],
      "execution_count": null,
      "outputs": []
    },
    {
      "cell_type": "markdown",
      "metadata": {
        "id": "WNeBaiVukvpx"
      },
      "source": [
        "# **Make edgelist**\n",
        "## Exercise\n",
        "\n",
        "Now, you're going to apply the same ideas to making an edge list. Go forth and give it a shot!\n",
        "\n",
        "As with the previous exercise, run G.edges(data=True)[0] in the IPython Shell to get a feel for the edge list data structure before proceeding.\n",
        "\n",
        "## Instructions\n",
        "* Initialize a list called edgelist to store each edge as a record.\n",
        "* Use a for loop to iterate over the edges of G_people. Inside the loop:\n",
        "> * Initialize a dictionary called edgeinfo that shows edge information.\n",
        "> * Update the edgeinfo dictionary with the metadata dictionary d.\n",
        "> * Append the edgeinfo dictionary to edgelist.\n",
        "* Create a pandas DataFrame of the edgelist called edge_df."
      ]
    },
    {
      "cell_type": "code",
      "metadata": {
        "id": "B1HQBwLAkz10"
      },
      "source": [
        "# Initialize a list to store each edge as a record: edgelist\n",
        "edgelist = []\n",
        "for n1, n2, d in G_people.edges(data=True):\n",
        "    # Initialize a dictionary that shows edge information: edgeinfo\n",
        "    edgeinfo = {'node1':n1, 'node2':n2}\n",
        "    \n",
        "    # Update the edgeinfo data with the edge metadata\n",
        "    edgeinfo.update(d)\n",
        "    \n",
        "    # Append the edgeinfo to the edgelist\n",
        "    edgelist.append(edgeinfo)\n",
        "    \n",
        "# Create a pandas DataFrame of the edgelist: edge_df\n",
        "edge_df = pd.DataFrame(edgelist)\n",
        "print(edge_df.head())"
      ],
      "execution_count": null,
      "outputs": []
    },
    {
      "cell_type": "markdown",
      "metadata": {
        "id": "eDFvx2wFlwgV"
      },
      "source": [
        "# **List of graphs**\n",
        "## Exercise\n",
        "\n",
        "In this set of exercises, you'll use a college messaging dataset to learn how to filter graphs for time series analysis. In this dataset, nodes are students, and edges denote messages being sent from one student to another. The graph as it stands right now captures all communications at all time points.\n",
        "\n",
        "Let's start by analyzing the graphs in which only the edges change over time.\n",
        "\n",
        "The dataset has been loaded into a DataFrame called data. Feel free to explore it in the IPython Shell. Specifically, check out the output of data['sender'] and data['recipient'].\n",
        "\n",
        "## Instructions\n",
        "* Initialize an empty list called Gs.\n",
        "* Use a for loop to iterate over months. Inside the loop:\n",
        "> * Instantiate a new undirected graph called G, using the nx.Graph() function.\n",
        "> * Add in all nodes that have ever shown up to the graph. To do this, use the .add_nodes_from() method on G two times, first with data['sender'] as argument, and then with data['recipient'].\n",
        "> * Filter the DataFrame so there's only the given month. This has been done for you.\n",
        "> * Add edges from the filtered DataFrame. To do this, use the .add_edges_from() method with df_filtered['sender'] and df_filtered['recipient'] passed into zip().\n",
        "> * Append G to the list of graphs Gs."
      ]
    },
    {
      "cell_type": "code",
      "metadata": {
        "colab": {
          "base_uri": "https://localhost:8080/",
          "height": 555
        },
        "id": "VeEduIyglw34",
        "outputId": "3b025c38-2357-4903-dc29-5eb633d451f6"
      },
      "source": [
        "# import networkx as nx \n",
        "\n",
        "months = range(4, 11)\n",
        "\n",
        "# Initialize an empty list: Gs\n",
        "Gs = [] \n",
        "for month in months:\n",
        "    # Instantiate a new undirected graph: G\n",
        "    G = nx.Graph()\n",
        "    \n",
        "    # Add in all nodes that have ever shown up to the graph\n",
        "    G.add_nodes_from(data['sender'])\n",
        "    G.add_nodes_from(data['recipient'])\n",
        "    \n",
        "    # Filter the DataFrame so that there's only the given month\n",
        "    df_filtered = data[data['month'] == month]\n",
        "    \n",
        "    # Add edges from filtered DataFrame\n",
        "    G.add_edges_from(zip(df_filtered['sender'],df_filtered['recipient']))\n",
        "    \n",
        "    # Append G to the list of graphs\n",
        "    Gs.append(G)\n",
        "    \n",
        "print(len(Gs))"
      ],
      "execution_count": null,
      "outputs": [
        {
          "output_type": "error",
          "ename": "KeyError",
          "evalue": "ignored",
          "traceback": [
            "\u001b[0;31m---------------------------------------------------------------------------\u001b[0m",
            "\u001b[0;31mKeyError\u001b[0m                                  Traceback (most recent call last)",
            "\u001b[0;32m/usr/local/lib/python3.7/dist-packages/pandas/core/indexes/base.py\u001b[0m in \u001b[0;36mget_loc\u001b[0;34m(self, key, method, tolerance)\u001b[0m\n\u001b[1;32m   2897\u001b[0m                 \u001b[0;32mreturn\u001b[0m \u001b[0mself\u001b[0m\u001b[0;34m.\u001b[0m\u001b[0m_engine\u001b[0m\u001b[0;34m.\u001b[0m\u001b[0mget_loc\u001b[0m\u001b[0;34m(\u001b[0m\u001b[0mkey\u001b[0m\u001b[0;34m)\u001b[0m\u001b[0;34m\u001b[0m\u001b[0;34m\u001b[0m\u001b[0m\n\u001b[0;32m-> 2898\u001b[0;31m             \u001b[0;32mexcept\u001b[0m \u001b[0mKeyError\u001b[0m\u001b[0;34m:\u001b[0m\u001b[0;34m\u001b[0m\u001b[0;34m\u001b[0m\u001b[0m\n\u001b[0m\u001b[1;32m   2899\u001b[0m                 \u001b[0;32mreturn\u001b[0m \u001b[0mself\u001b[0m\u001b[0;34m.\u001b[0m\u001b[0m_engine\u001b[0m\u001b[0;34m.\u001b[0m\u001b[0mget_loc\u001b[0m\u001b[0;34m(\u001b[0m\u001b[0mself\u001b[0m\u001b[0;34m.\u001b[0m\u001b[0m_maybe_cast_indexer\u001b[0m\u001b[0;34m(\u001b[0m\u001b[0mkey\u001b[0m\u001b[0;34m)\u001b[0m\u001b[0;34m)\u001b[0m\u001b[0;34m\u001b[0m\u001b[0;34m\u001b[0m\u001b[0m\n",
            "\u001b[0;32mpandas/_libs/index.pyx\u001b[0m in \u001b[0;36mpandas._libs.index.IndexEngine.get_loc\u001b[0;34m()\u001b[0m\n",
            "\u001b[0;32mpandas/_libs/index.pyx\u001b[0m in \u001b[0;36mpandas._libs.index.IndexEngine.get_loc\u001b[0;34m()\u001b[0m\n",
            "\u001b[0;32mpandas/_libs/hashtable_class_helper.pxi\u001b[0m in \u001b[0;36mpandas._libs.hashtable.PyObjectHashTable.get_item\u001b[0;34m()\u001b[0m\n",
            "\u001b[0;32mpandas/_libs/hashtable_class_helper.pxi\u001b[0m in \u001b[0;36mpandas._libs.hashtable.PyObjectHashTable.get_item\u001b[0;34m()\u001b[0m\n",
            "\u001b[0;31mKeyError\u001b[0m: 'sender'",
            "\nThe above exception was the direct cause of the following exception:\n",
            "\u001b[0;31mKeyError\u001b[0m                                  Traceback (most recent call last)",
            "\u001b[0;32m<ipython-input-105-0919226d06fd>\u001b[0m in \u001b[0;36m<module>\u001b[0;34m()\u001b[0m\n\u001b[1;32m     10\u001b[0m \u001b[0;34m\u001b[0m\u001b[0m\n\u001b[1;32m     11\u001b[0m     \u001b[0;31m# Add in all nodes that have ever shown up to the graph\u001b[0m\u001b[0;34m\u001b[0m\u001b[0;34m\u001b[0m\u001b[0;34m\u001b[0m\u001b[0m\n\u001b[0;32m---> 12\u001b[0;31m     \u001b[0mG\u001b[0m\u001b[0;34m.\u001b[0m\u001b[0madd_nodes_from\u001b[0m\u001b[0;34m(\u001b[0m\u001b[0mdata\u001b[0m\u001b[0;34m[\u001b[0m\u001b[0;34m'sender'\u001b[0m\u001b[0;34m]\u001b[0m\u001b[0;34m)\u001b[0m\u001b[0;34m\u001b[0m\u001b[0;34m\u001b[0m\u001b[0m\n\u001b[0m\u001b[1;32m     13\u001b[0m     \u001b[0mG\u001b[0m\u001b[0;34m.\u001b[0m\u001b[0madd_nodes_from\u001b[0m\u001b[0;34m(\u001b[0m\u001b[0mdata\u001b[0m\u001b[0;34m[\u001b[0m\u001b[0;34m'recipient'\u001b[0m\u001b[0;34m]\u001b[0m\u001b[0;34m)\u001b[0m\u001b[0;34m\u001b[0m\u001b[0;34m\u001b[0m\u001b[0m\n\u001b[1;32m     14\u001b[0m \u001b[0;34m\u001b[0m\u001b[0m\n",
            "\u001b[0;32m/usr/local/lib/python3.7/dist-packages/pandas/core/frame.py\u001b[0m in \u001b[0;36m__getitem__\u001b[0;34m(self, key)\u001b[0m\n\u001b[1;32m   2904\u001b[0m         \u001b[0;34m-\u001b[0m\u001b[0;34m-\u001b[0m\u001b[0;34m-\u001b[0m\u001b[0;34m-\u001b[0m\u001b[0;34m-\u001b[0m\u001b[0;34m-\u001b[0m\u001b[0;34m-\u001b[0m\u001b[0;34m-\u001b[0m\u001b[0;34m-\u001b[0m\u001b[0;34m-\u001b[0m\u001b[0;34m\u001b[0m\u001b[0;34m\u001b[0m\u001b[0m\n\u001b[1;32m   2905\u001b[0m         \u001b[0mi\u001b[0m \u001b[0;34m:\u001b[0m \u001b[0mint\u001b[0m\u001b[0;34m\u001b[0m\u001b[0;34m\u001b[0m\u001b[0m\n\u001b[0;32m-> 2906\u001b[0;31m         \u001b[0maxis\u001b[0m \u001b[0;34m:\u001b[0m \u001b[0mint\u001b[0m\u001b[0;34m\u001b[0m\u001b[0;34m\u001b[0m\u001b[0m\n\u001b[0m\u001b[1;32m   2907\u001b[0m \u001b[0;34m\u001b[0m\u001b[0m\n\u001b[1;32m   2908\u001b[0m         \u001b[0mNotes\u001b[0m\u001b[0;34m\u001b[0m\u001b[0;34m\u001b[0m\u001b[0m\n",
            "\u001b[0;32m/usr/local/lib/python3.7/dist-packages/pandas/core/indexes/base.py\u001b[0m in \u001b[0;36mget_loc\u001b[0;34m(self, key, method, tolerance)\u001b[0m\n\u001b[1;32m   2898\u001b[0m             \u001b[0;32mexcept\u001b[0m \u001b[0mKeyError\u001b[0m\u001b[0;34m:\u001b[0m\u001b[0;34m\u001b[0m\u001b[0;34m\u001b[0m\u001b[0m\n\u001b[1;32m   2899\u001b[0m                 \u001b[0;32mreturn\u001b[0m \u001b[0mself\u001b[0m\u001b[0;34m.\u001b[0m\u001b[0m_engine\u001b[0m\u001b[0;34m.\u001b[0m\u001b[0mget_loc\u001b[0m\u001b[0;34m(\u001b[0m\u001b[0mself\u001b[0m\u001b[0;34m.\u001b[0m\u001b[0m_maybe_cast_indexer\u001b[0m\u001b[0;34m(\u001b[0m\u001b[0mkey\u001b[0m\u001b[0;34m)\u001b[0m\u001b[0;34m)\u001b[0m\u001b[0;34m\u001b[0m\u001b[0;34m\u001b[0m\u001b[0m\n\u001b[0;32m-> 2900\u001b[0;31m         \u001b[0mindexer\u001b[0m \u001b[0;34m=\u001b[0m \u001b[0mself\u001b[0m\u001b[0;34m.\u001b[0m\u001b[0mget_indexer\u001b[0m\u001b[0;34m(\u001b[0m\u001b[0;34m[\u001b[0m\u001b[0mkey\u001b[0m\u001b[0;34m]\u001b[0m\u001b[0;34m,\u001b[0m \u001b[0mmethod\u001b[0m\u001b[0;34m=\u001b[0m\u001b[0mmethod\u001b[0m\u001b[0;34m,\u001b[0m \u001b[0mtolerance\u001b[0m\u001b[0;34m=\u001b[0m\u001b[0mtolerance\u001b[0m\u001b[0;34m)\u001b[0m\u001b[0;34m\u001b[0m\u001b[0;34m\u001b[0m\u001b[0m\n\u001b[0m\u001b[1;32m   2901\u001b[0m         \u001b[0;32mif\u001b[0m \u001b[0mindexer\u001b[0m\u001b[0;34m.\u001b[0m\u001b[0mndim\u001b[0m \u001b[0;34m>\u001b[0m \u001b[0;36m1\u001b[0m \u001b[0;32mor\u001b[0m \u001b[0mindexer\u001b[0m\u001b[0;34m.\u001b[0m\u001b[0msize\u001b[0m \u001b[0;34m>\u001b[0m \u001b[0;36m1\u001b[0m\u001b[0;34m:\u001b[0m\u001b[0;34m\u001b[0m\u001b[0;34m\u001b[0m\u001b[0m\n\u001b[1;32m   2902\u001b[0m             \u001b[0;32mraise\u001b[0m \u001b[0mTypeError\u001b[0m\u001b[0;34m(\u001b[0m\u001b[0;34m\"get_loc requires scalar valued input\"\u001b[0m\u001b[0;34m)\u001b[0m\u001b[0;34m\u001b[0m\u001b[0;34m\u001b[0m\u001b[0m\n",
            "\u001b[0;31mKeyError\u001b[0m: 'sender'"
          ]
        }
      ]
    },
    {
      "cell_type": "markdown",
      "metadata": {
        "id": "CGM5cAvMmhM_"
      },
      "source": [
        "# **Graph differences over time**\n",
        "# Exercise\n",
        "\n",
        "Now, you'll compute the graph differences over time! To look at the simplest case, here you'll use a window of (month, month + 1), and then keep track of the edges gained or lost over time. This exercise is preparation for the next exercise, in which you will visualize the changes over time.\n",
        "\n",
        "# Instructions\n",
        "* Inside the for loop:\n",
        "> * Assign Gs[i] to g1 and Gs[i + window] to g2.\n",
        "> * Using nx.difference() compute the difference between g2 and g1. Append the result to added.\n",
        "> * Append the difference between g1 and g2 to removed.\n",
        "* Print fractional_changes."
      ]
    },
    {
      "cell_type": "code",
      "metadata": {
        "id": "hUA2HrVxmMFK"
      },
      "source": [
        "# import networkx as nx  \n",
        "# Instantiate a list of graphs that show edges added: added\n",
        "added = []\n",
        "# Instantiate a list of graphs that show edges removed: removed\n",
        "removed = []\n",
        "# Here's the fractional change over time\n",
        "fractional_changes = []\n",
        "window = 1  \n",
        "i = 0      \n",
        "\n",
        "for i in range(len(Gs) - window):\n",
        "    g1 = Gs[i]\n",
        "    g2 = Gs[i + window]\n",
        "        \n",
        "    # Compute graph difference here\n",
        "    added.append(nx.difference(g2,g1))   \n",
        "    removed.append(nx.difference(g1,g2))\n",
        "    \n",
        "    # Compute change in graph size over time\n",
        "    fractional_changes.append((len(g2.edges()) - len(g1.edges())) / len(g1.edges()))\n",
        "    \n",
        "# Print the fractional change\n",
        "print(fractional_changes)"
      ],
      "execution_count": null,
      "outputs": []
    },
    {
      "cell_type": "markdown",
      "metadata": {
        "id": "otDcpnoimL8m"
      },
      "source": [
        "# **Plot number of edge changes over time**\n",
        "## Exercise\n",
        "You're now going to make some plots! All of the lists that you've created before have been loaded for you in this exercise too. Do not worry about some of the fancy matplotlib code that shows up below: there are comments to help you understand what's going on.\n",
        "\n",
        "## Instructions\n",
        "* Plot the number of edges added over time. To do this:\n",
        "> * Use a list comprehension to iterate over added and create a list called edges_added. The output expression of the list comprehension is len(g.edges()), where g is your iterator variable.\n",
        "> * Pass in the edges_added list to ax1.plot().\n",
        "* Plot the number of edges removed over time. Once again, use a list comprehension, this time iterating over removed instead of added.\n",
        "Plot the fractional changes over time by passing it in as an argument to ax2.plot()."
      ]
    },
    {
      "cell_type": "code",
      "metadata": {
        "colab": {
          "base_uri": "https://localhost:8080/",
          "height": 481
        },
        "id": "D_s6g6SvmN_O",
        "outputId": "1aec4d51-e4ee-4c87-db71-3995bc43d8b1"
      },
      "source": [
        "# Import matplotlib\n",
        "import matplotlib.pyplot as plt\n",
        "\n",
        "fig = plt.figure()\n",
        "ax1 = fig.add_subplot(111)\n",
        "\n",
        "# Plot the number of edges added over time\n",
        "edges_added = [len(g.edges()) for g in added]\n",
        "plot1 = ax1.plot(edges_added, label='added', color='orange')\n",
        "\n",
        "# Plot the number of edges removed over time\n",
        "edges_removed = [len(g.edges()) for g in removed]\n",
        "plot2 = ax1.plot(edges_removed, label='removed', color='purple')\n",
        "\n",
        "# Set yscale to logarithmic scale\n",
        "ax1.set_yscale('log')  \n",
        "ax1.legend()\n",
        "\n",
        "# 2nd axes shares x-axis with 1st axes object\n",
        "ax2 = ax1.twinx()\n",
        "\n",
        "# Plot the fractional changes over time\n",
        "plot3 = ax2.plot(fractional_changes, label='fractional change', color='green')\n",
        "\n",
        "# Here, we create a single legend for both plots\n",
        "lines1, labels1 = ax1.get_legend_handles_labels()\n",
        "lines2, labels2 = ax2.get_legend_handles_labels()\n",
        "ax2.legend(lines1 + lines2, labels1 + labels2, loc=0)\n",
        "plt.axhline(0, color='green', linestyle='--')\n",
        "plt.show()"
      ],
      "execution_count": null,
      "outputs": [
        {
          "output_type": "error",
          "ename": "NameError",
          "evalue": "ignored",
          "traceback": [
            "\u001b[0;31m---------------------------------------------------------------------------\u001b[0m",
            "\u001b[0;31mNameError\u001b[0m                                 Traceback (most recent call last)",
            "\u001b[0;32m<ipython-input-106-fc6780ba6b7b>\u001b[0m in \u001b[0;36m<module>\u001b[0;34m()\u001b[0m\n\u001b[1;32m      6\u001b[0m \u001b[0;34m\u001b[0m\u001b[0m\n\u001b[1;32m      7\u001b[0m \u001b[0;31m# Plot the number of edges added over time\u001b[0m\u001b[0;34m\u001b[0m\u001b[0;34m\u001b[0m\u001b[0;34m\u001b[0m\u001b[0m\n\u001b[0;32m----> 8\u001b[0;31m \u001b[0medges_added\u001b[0m \u001b[0;34m=\u001b[0m \u001b[0;34m[\u001b[0m\u001b[0mlen\u001b[0m\u001b[0;34m(\u001b[0m\u001b[0mg\u001b[0m\u001b[0;34m.\u001b[0m\u001b[0medges\u001b[0m\u001b[0;34m(\u001b[0m\u001b[0;34m)\u001b[0m\u001b[0;34m)\u001b[0m \u001b[0;32mfor\u001b[0m \u001b[0mg\u001b[0m \u001b[0;32min\u001b[0m \u001b[0madded\u001b[0m\u001b[0;34m]\u001b[0m\u001b[0;34m\u001b[0m\u001b[0;34m\u001b[0m\u001b[0m\n\u001b[0m\u001b[1;32m      9\u001b[0m \u001b[0mplot1\u001b[0m \u001b[0;34m=\u001b[0m \u001b[0max1\u001b[0m\u001b[0;34m.\u001b[0m\u001b[0mplot\u001b[0m\u001b[0;34m(\u001b[0m\u001b[0medges_added\u001b[0m\u001b[0;34m,\u001b[0m \u001b[0mlabel\u001b[0m\u001b[0;34m=\u001b[0m\u001b[0;34m'added'\u001b[0m\u001b[0;34m,\u001b[0m \u001b[0mcolor\u001b[0m\u001b[0;34m=\u001b[0m\u001b[0;34m'orange'\u001b[0m\u001b[0;34m)\u001b[0m\u001b[0;34m\u001b[0m\u001b[0;34m\u001b[0m\u001b[0m\n\u001b[1;32m     10\u001b[0m \u001b[0;34m\u001b[0m\u001b[0m\n",
            "\u001b[0;31mNameError\u001b[0m: name 'added' is not defined"
          ]
        },
        {
          "output_type": "display_data",
          "data": {
            "image/png": "[encoded data removed]",
            "text/plain": [
              "<Figure size 432x288 with 1 Axes>"
            ]
          },
          "metadata": {
            "needs_background": "light"
          }
        }
      ]
    },
    {
      "cell_type": "markdown",
      "metadata": {
        "id": "YmoUwALkmNRM"
      },
      "source": [
        "# **Number of edges over time**\n",
        "## Exercise\n",
        "You're now going to get some practice plotting other evolving graph statistics. We'll start with a simpler exercise to kick things off. First off, plot the number of edges over time.\n",
        "\n",
        "To do this, you'll create a list of the number of edges per month. The index of this list will correspond to the months elapsed since the first month.\n",
        "## Instructions\n",
        "* Import matplotlib.pyplot as plt.\n",
        "* Create a list of the number of edges per month called edge_sizes. Use a list comprehension to do this, where you iterate over Gs using an iterator variable called g, and your output expression is len(g.edges()).\n",
        "* Plot edge sizes over time."
      ]
    },
    {
      "cell_type": "code",
      "metadata": {
        "colab": {
          "base_uri": "https://localhost:8080/",
          "height": 279
        },
        "id": "e3EsUya2oEPu",
        "outputId": "50e37832-f638-461f-e551-522c5f665ea3"
      },
      "source": [
        "# Import matplotlib\n",
        "import matplotlib.pyplot as plt\n",
        "\n",
        "fig = plt.figure()\n",
        "\n",
        "# Create a list of the number of edges per month\n",
        "edge_sizes = [len(g.edges()) for g in Gs]\n",
        "\n",
        "# Plot edge sizes over time\n",
        "plt.plot(edge_sizes)\n",
        "plt.xlabel('Time elapsed from first month (in months).') \n",
        "plt.ylabel('Number of edges')                           \n",
        "plt.show() "
      ],
      "execution_count": null,
      "outputs": [
        {
          "output_type": "display_data",
          "data": {
            "image/png": "[encoded data removed]",
            "text/plain": [
              "<Figure size 432x288 with 1 Axes>"
            ]
          },
          "metadata": {
            "needs_background": "light"
          }
        }
      ]
    },
    {
      "cell_type": "markdown",
      "metadata": {
        "id": "R8vTGjefoEhY"
      },
      "source": [
        "# **Degree centrality over time**\n",
        "## Exercise\n",
        "\n",
        "Now, you're going to plot the degree centrality distribution over time. Remember that the ECDF function will be provided, so you won't have to implement it.\n",
        "\n",
        "## Instructions\n",
        "* Create a list of degree centrality scores month-by-month. To do this:\n",
        "> * In each iteration of the first for loop, compute the degree centrality of G using the nx.degree_centrality() function. Save the result as cent.\n",
        "> * Append cent to the list cents.\n",
        "* Plot ECDFs over time. To do this:\n",
        "> * Iterate over range(len(cents)) using a for loop. Inside the loop, use the ECDF() function with cents[i].values() as the argument. Unpack the output of this into x and y.\n",
        "> * Pass x and y as arguments to plt.plot()."
      ]
    },
    {
      "cell_type": "code",
      "metadata": {
        "id": "jZDN6N01oE_q"
      },
      "source": [
        "# Import necessary modules\n",
        "import networkx as nx\n",
        "import matplotlib.pyplot as plt\n",
        "\n",
        "# Create a list of degree centrality scores month-by-month\n",
        "cents = []\n",
        "for G in Gs:\n",
        "    cent = nx.degree_centrality(G)\n",
        "    cents.append(cent)\n",
        "\n",
        "\n",
        "# Plot ECDFs over time\n",
        "fig = plt.figure()\n",
        "for i in range(len(cents)):\n",
        "    x, y = ECDF(cents[i].values())\n",
        "    plt.plot(x, y, label='Month {0}'.format(i+1)) \n",
        "plt.legend()   \n",
        "plt.show()"
      ],
      "execution_count": null,
      "outputs": []
    },
    {
      "cell_type": "markdown",
      "metadata": {
        "id": "qfC62Ahgphpm"
      },
      "source": [
        "# **Find nodes with top degree centralities**\n",
        "## Exercise\n",
        "\n",
        "In this exercise, you'll take a deeper dive to see whether there's anything interesting about the most connected students in the network. First off, you'll find the cluster of students that have the highest degree centralities. This result will be saved for the next plotting exercise.\n",
        "\n",
        "## Instructions\n",
        "* Get the top 5 unique degree centrality scores. To do this, use the sorted() function, in which the first argument is the set of degree centrality values of G (because you want unique degree centralities), and the second argument is reverse=True, to ensure that it is sorted in descending order. To limit the results to the top 5 scores, add in appropriate slicing to the end of the statement. Also, remember to use .values() on the returned degree centrality results!\n",
        "* Create list of nodes that have the top 5 highest overall degree centralities. To do this:\n",
        "> * Iterate over the dictionary of degree centrality scores using the .items() method on nx.degree_centrality(G).\n",
        "> * If dc is in top_dcs, then append the node n to the top_connected list.\n",
        "* Print the number of nodes that share the top 5 degree centrality scores (top_connected) using len()."
      ]
    },
    {
      "cell_type": "code",
      "metadata": {
        "id": "gHy_Rn2XpiB_"
      },
      "source": [
        "# Get the top 5 unique degree centrality scores: top_dcs\n",
        "top_dcs = sorted(set(nx.degree_centrality(G).values()), reverse=True)[0:5]\n",
        "\n",
        "# Create list of nodes that have the top 5 highest overall degree centralities\n",
        "top_connected = []\n",
        "for n, dc in nx.degree_centrality(G).items():\n",
        "    if dc in top_dcs:\n",
        "        top_connected.append(n)\n",
        "        \n",
        "# Print the number of nodes that share the top 5 degree centrality scores\n",
        "print(len(top_connected))"
      ],
      "execution_count": null,
      "outputs": []
    },
    {
      "cell_type": "markdown",
      "metadata": {
        "id": "l852kOrupi7H"
      },
      "source": [
        "# **Visualizing connectivity**\n",
        "## Exercise\n",
        "\n",
        "Here, you're going to visualize how the connectivity of the top connected nodes changes over time. The list of top connected values, top_connected, from the previous exercise has been loaded.\n",
        "\n",
        "Remember the defaultdict you used in Chapter 1? You'll use another defaultdict in this exercise! As Eric mentioned in the video, a defaultdict is preferred here as a regular Python dictionary would throw a KeyError if you try to get an item with a key that is not currently in the dictionary.\n",
        "\n",
        "This exercise will make use of nested for loops. That is, you'll use one for loop inside another.\n",
        "\n",
        "## Instructions\n",
        "* Initialize a defaultdict of empty lists called connectivity.\n",
        "* Iterate over top_connected using a for loop, and in the body of this outer for loop, once again iterate over Gs. Inside this nested loop:\n",
        "> * The keys of connectivity should be the nodes n in top_connected, and the values should be the list of connectivity scores. Therefore, you have to append len(g.neighbors(n)) to connectivity[n].\n",
        "* Iterate over connectivity using .items() and plot the connectivity of each node by passing in conn to plt.plot()."
      ]
    },
    {
      "cell_type": "code",
      "metadata": {
        "id": "I2ME73-jpilx"
      },
      "source": [
        "# # Import necessary modules\n",
        "# import matplotlib.pyplot as plt\n",
        "from collections import defaultdict\n",
        "\n",
        "# Create a defaultdict in which the keys are nodes and the values are a list of connectivity scores over time\n",
        "connectivity = defaultdict(list)\n",
        "for n in top_connected:\n",
        "    for g in Gs:\n",
        "        connectivity[n].append(len(list(g.neighbors(n))))\n",
        "\n",
        "# Plot the connectivity for each node\n",
        "fig = plt.figure() \n",
        "for n, conn in connectivity.items(): \n",
        "    plt.plot(conn, label=n) \n",
        "plt.legend()  \n",
        "plt.show()"
      ],
      "execution_count": null,
      "outputs": []
    },
    {
      "cell_type": "markdown",
      "metadata": {
        "id": "D5TeGawFpiZ5"
      },
      "source": [
        "\n",
        "# **Create a graph from the pandas DataFrame**\n",
        "## Exercise\n",
        "Let's start by creating a graph from a pandas DataFrame. In this exercise, you'll create a new bipartite graph by looping over the edgelist (which is a DataFrame object).\n",
        "\n",
        "For simplicity's sake, in this graph construction procedure, any edge between a student and a forum node will be the 'last' edge (in time) that a student posted to a forum over the entire time span of the dataset, though there are ways to get around this.\n",
        "\n",
        "Additionally, to shorten the runtime of the exercise, we have provided a sub-sampled version of the edge list as data. Explore it in the IPython Shell to familiarize yourself with it.\n",
        "\n",
        "## Instructions\n",
        "* Instantiate a new Graph called G.\n",
        "* Add nodes from each of the partitions. Use the .add_nodes_from() method to do this. The two partitions are 'student' and 'forum'. To add nodes from the 'student' partition, for example, the arguments to .add_nodes_from() would be data['student'] and bipartite='student'.\n",
        "* Add in each edge along with the date the edge was created. To do this, use the .add_edge() method inside the loop, with the arguments d['student'], d['forum'], and date=d['date']."
      ]
    },
    {
      "cell_type": "code",
      "metadata": {
        "id": "YOXAaA3ypkbv"
      },
      "source": [
        "# import networkx as nx\n",
        "\n",
        "# Instantiate a new Graph: G\n",
        "G = nx.Graph()\n",
        "# Add nodes from each of the partitions\n",
        "G.add_nodes_from(uci['student'],bipartite='student')\n",
        "G.add_nodes_from(uci['forum'],bipartite='forum')\n",
        "\n",
        "# Add in each edge along with the date the edge was created\n",
        "for r, d in uci.iterrows():\n",
        "    G.add_edge(d['student'],d['forum'],date=d['date'])"
      ],
      "execution_count": null,
      "outputs": []
    },
    {
      "cell_type": "markdown",
      "metadata": {
        "id": "qswTOEskpksB"
      },
      "source": [
        "# **Visualize the degree centrality distribution of the students projection**\n",
        "## Exercise\n",
        "\n",
        "In this exercise, you will visualize the degree centrality distribution of the students projection. This is a recap of two previous concepts you've learned: degree centralities, and projections.\n",
        "\n",
        "## Instructions\n",
        "* Get the nodes of the 'student' partition into a list called student_nodes.\n",
        "> * Use a list comprehension to do this, iterating over all the nodes of G (including the metadata), and checking to see if the 'bipartite' keyword of d equals 'student'.\n",
        "* Create the students nodes projection as a graph called G_students. Use the nx.bipartite.projected_graph() function to do this. Be sure to specify the keyword argument nodes=student_nodes.\n",
        "* Calculate the degree centrality of G_students using nx.degree_centrality(). Store the result as dcs.\n",
        "* Plot the histogram of degree centrality values."
      ]
    },
    {
      "cell_type": "code",
      "metadata": {
        "colab": {
          "base_uri": "https://localhost:8080/",
          "height": 265
        },
        "id": "JdhYm3MxplMJ",
        "outputId": "ddcaa5cf-3c8f-47d4-aa9a-17f410766e46"
      },
      "source": [
        "# Import necessary modules\n",
        "# import matplotlib.pyplot as plt\n",
        "# import networkx as nx\n",
        "\n",
        "# Get the student partition's nodes: student_nodes\n",
        "student_nodes = [n for n, d in G.nodes(data = True) if d['bipartite'] == 'student']\n",
        "\n",
        "# Create the students nodes projection as a graph: G_students\n",
        "G_students = nx.bipartite.projected_graph(G,student_nodes)\n",
        "\n",
        "# Calculate the degree centrality using nx.degree_centrality: dcs\n",
        "dcs = nx.degree_centrality(G_students)\n",
        "\n",
        "# Plot the histogram of degree centrality values\n",
        "plt.hist(list(dcs.values()))\n",
        "plt.yscale('log')  \n",
        "plt.show() "
      ],
      "execution_count": null,
      "outputs": [
        {
          "output_type": "display_data",
          "data": {
            "image/png": "[encoded data removed]",
            "text/plain": [
              "<Figure size 432x288 with 1 Axes>"
            ]
          },
          "metadata": {
            "needs_background": "light"
          }
        }
      ]
    },
    {
      "cell_type": "markdown",
      "metadata": {
        "id": "HD6tqFoswZOr"
      },
      "source": [
        "# **Visualize the degree centrality**\n",
        "## Exercise\n",
        "distribution of the forums projection\n",
        "This exercise is also to reinforce the concepts of degree centrality and projections. This time round, you'll plot the degree centrality distribution for the 'forum' projection. Follow the same steps as in the previous exercise!\n",
        "\n",
        "## Instructions\n",
        "* Get the nodes of the 'forum' partition into a list called forum_nodes.\n",
        "* Create the forums nodes projection as a graph called G_forum.\n",
        "* Calculate the degree centrality of G_forum using nx.degree_centrality(). Store the result as dcs.\n",
        "* Plot the histogram of degree centrality values."
      ]
    },
    {
      "cell_type": "code",
      "metadata": {
        "colab": {
          "base_uri": "https://localhost:8080/",
          "height": 265
        },
        "id": "jzYlqhPEwZlz",
        "outputId": "3c4ae2dc-9531-4fed-9b61-97fbeece2208"
      },
      "source": [
        "# Import necessary modules\n",
        "# import matplotlib.pyplot as plt \n",
        "# import networkx as nx\n",
        "\n",
        "# Get the forums partition's nodes: forum_nodes\n",
        "forum_nodes = [n for n,d in G.nodes(data=True) if d['bipartite'] == 'forum']\n",
        "\n",
        "# Create the forum nodes projection as a graph: G_forum\n",
        "G_forum = nx.bipartite.projected_graph(G,forum_nodes)\n",
        "\n",
        "# Calculate the degree centrality using nx.degree_centrality: dcs\n",
        "dcs = nx.degree_centrality(G_forum)\n",
        "\n",
        "# Plot the histogram of degree centrality values\n",
        "plt.hist(list(dcs.values()))\n",
        "plt.yscale('log') \n",
        "plt.show()"
      ],
      "execution_count": null,
      "outputs": [
        {
          "output_type": "display_data",
          "data": {
            "image/png": "[encoded data removed]",
            "text/plain": [
              "<Figure size 432x288 with 1 Axes>"
            ]
          },
          "metadata": {
            "needs_background": "light"
          }
        }
      ]
    },
    {
      "cell_type": "markdown",
      "metadata": {
        "id": "L6pVe0AjwZ8m"
      },
      "source": [
        "# **Time filter on edges**\n",
        "## Exercise\n",
        "You're now going to practice filtering the graph using a conditional as applied to the edges. This will help you gain practice and become comfortable with list comprehensions that contain conditionals.\n",
        "\n",
        "To help you with the exercises, remember that you can import datetime objects from the datetime module. On the graph, the metadata has a date key that is paired with a datetime object as a value.\n",
        "\n",
        "## Instructions\n",
        "* Instantiate a new graph called G_sub.\n",
        "* Add nodes from the original graph (including the node metadata), using the .add_nodes_from() method.\n",
        "* Add edges using a list comprehension with one conditional on the edge dates, that the date of the edge is earlier than 2004-05-16. To do this:\n",
        "> * Use the .add_edges_from() method with a list comprehension as the argument.\n",
        "> * The output expression of the list comprehension is (u, v, d). Iterate over all the edges of G and check whether d['date'] is less than datetime(2004, 5, 16)."
      ]
    },
    {
      "cell_type": "code",
      "metadata": {
        "id": "_rCdxdRawaQP"
      },
      "source": [
        "# import networkx as nx\n",
        "from datetime import datetime\n",
        "\n",
        "# Instantiate a new graph: G_sub\n",
        "G_sub = nx.Graph()\n",
        "\n",
        "# Add nodes from the original graph\n",
        "G_sub.add_nodes_from(G.nodes(data = True))\n",
        "\n",
        "# Add edges using a list comprehension with one conditional on the edge dates, that the date of the edge is earlier than 2004-05-16.\n",
        "G_sub.add_edges_from([(u, v, d) for u, v, d in G.edges(data=True) if d['date'] < datetime(2004, 5, 16)])"
      ],
      "execution_count": null,
      "outputs": []
    },
    {
      "cell_type": "markdown",
      "metadata": {
        "id": "VkTuAM6awas7"
      },
      "source": [
        "# **Visualize filtered graph using nxviz**\n",
        "## Exercise\n",
        "Here, you'll visualize the filtered graph using a CircosPlot. The CircosPlot is a natural choice for this visualization, as you can use node grouping and coloring to visualize the partitions, while the circular layout preserves the aesthetics of the visualization.\n",
        "\n",
        "## Instructions\n",
        "* Compute degree centrality scores of each node using the bipartite module degree centralities, but based on the degree centrality in the original graph.\n",
        "> * Use the nx.bipartite.degree_centrality() function for this, with the arguments G and nodes=forum_nodes.\n",
        "* Create a new CircosPlot object with nodes colored and grouped (parameters node_color and node_grouping) by their partition label ('bipartite'), and ordered (parameter node_order) by their degree centrality ('dc')\n",
        "* Plot the CircosPlot to screen."
      ]
    },
    {
      "cell_type": "code",
      "metadata": {
        "colab": {
          "base_uri": "https://localhost:8080/",
          "height": 357
        },
        "id": "NolW9ZbzwbAa",
        "outputId": "748b3d98-fe8d-452c-f2db-383f0b920460"
      },
      "source": [
        "# Import necessary modules\n",
        "from nxviz import CircosPlot\n",
        "# import networkx as nx\n",
        "# import matplotlib.pyplot as plt\n",
        "\n",
        "# Compute degree centrality scores of each node\n",
        "dcs = nx.bipartite.degree_centrality(G, nodes=forum_nodes)\n",
        "for n, d in G_sub.nodes(data=True):\n",
        "    G_sub.nodes[n]['dc'] = dcs[n]\n",
        "\n",
        "# Create the CircosPlot object: c\n",
        "c = CircosPlot(G_sub,node_color='bipartite',node_grouping='bipartite',node_order='dc')\n",
        "\n",
        "# Draw c to screen\n",
        "c.draw()\n",
        "\n",
        "# Display the plot\n",
        "plt.show() \n"
      ],
      "execution_count": null,
      "outputs": [
        {
          "output_type": "display_data",
          "data": {
            "image/png": "[encoded data removed]",
            "text/plain": [
              "<Figure size 432x432 with 1 Axes>"
            ]
          },
          "metadata": {}
        }
      ]
    },
    {
      "cell_type": "markdown",
      "metadata": {
        "id": "BcFQxKdIwbPg"
      },
      "source": [
        "# **Plot number of posts being made over time**\n",
        "## Exercise\n",
        "Let's recap how you can plot evolving graph statistics from the graph data. First off, you will use the graph data to quantify the number of edges that show up within a chunking time window of td days, which is 2 days in the exercise below.\n",
        "\n",
        "The datetime variables dayone and lastday have been provided for you.\n",
        "\n",
        "## Instructions\n",
        "* Define a timedelta of 2 days using the timedelta() function and specifying an argument for the days parameter.\n",
        "* Inside the while loop:\n",
        "> * Filter edges such that they are within the sliding time window. Use a list comprehension to do this, where the output expression is (u, v, d), the iterable is G.edges(data=True), and there are two conditions: if d['date'] is >= curr_day and < than curr_day + td.\n",
        "> * Append the number of edges (use the len() function to help you calculate this) to n_posts.\n",
        "> * Increment curr_day by the time delta td.\n",
        "* Make a plot of n_posts using plt.plot()."
      ]
    },
    {
      "cell_type": "code",
      "metadata": {
        "id": "rgi3Rmlw0yvw"
      },
      "source": [
        "dayone = datetime(2004,5,14)\n",
        "lastday = datetime(2004,10,26 )"
      ],
      "execution_count": null,
      "outputs": []
    },
    {
      "cell_type": "code",
      "metadata": {
        "colab": {
          "base_uri": "https://localhost:8080/",
          "height": 346
        },
        "id": "tKgqaHRTwbru",
        "outputId": "f51271d6-7df6-4e9c-af39-fbd6d7be394b"
      },
      "source": [
        "# Import necessary modules\n",
        "from datetime import timedelta  \n",
        "# import matplotlib.pyplot as plt\n",
        "\n",
        "# Define current day and timedelta of 2 days\n",
        "curr_day = dayone\n",
        "td = timedelta(days=2)\n",
        "\n",
        "# Initialize an empty list of posts by day\n",
        "n_posts = []\n",
        "while curr_day < lastday:\n",
        "    if curr_day.day == 1:\n",
        "        print(curr_day) \n",
        "    # Filter edges such that they are within the sliding time window: edges\n",
        "    edges = [(u, v, d) for u, v, d in G.edges(data=True) if d['date'] >= curr_day and d['date'] < curr_day + td]\n",
        "    \n",
        "    # Append number of edges to the n_posts list\n",
        "    n_posts.append(len(edges))\n",
        "    \n",
        "    # Increment the curr_day by the time delta\n",
        "    curr_day += td\n",
        "    \n",
        "# Create the plot\n",
        "plt.plot(n_posts)  \n",
        "plt.xlabel('Days elapsed')\n",
        "plt.ylabel('Number of posts')\n",
        "plt.show()  "
      ],
      "execution_count": null,
      "outputs": [
        {
          "output_type": "stream",
          "name": "stdout",
          "text": [
            "2004-06-01 00:00:00\n",
            "2004-07-01 00:00:00\n",
            "2004-09-01 00:00:00\n",
            "2004-10-01 00:00:00\n"
          ]
        },
        {
          "output_type": "display_data",
          "data": {
            "image/png": "[encoded data removed]",
            "text/plain": [
              "<Figure size 432x288 with 1 Axes>"
            ]
          },
          "metadata": {
            "needs_background": "light"
          }
        }
      ]
    },
    {
      "cell_type": "markdown",
      "metadata": {
        "id": "F-sTZm-cyhif"
      },
      "source": [
        "# **Extract the mean degree centrality**\n",
        "## Exercise\n",
        "Here, you're going to see if the mean degree centrality over all nodes is correlated with the number of edges that are plotted over time. There might not necessarily be a strong correlation, and you'll take a look to see if that's the case.\n",
        "## Instructions\n",
        "* Instantiate a new graph called G_sub containing a subset of edges.\n",
        "* Add nodes from G, including the node metadata.\n",
        "* Add in edges that fulfill the criteria, using the .add_edges_from() method.\n",
        "* Get the students projection G_student_sub from G_sub using the nx.bipartite.projected_graph() function.\n",
        "* Compute the degree centrality of the students projection using nx.degree_centrality() (don't use the bipartite version).\n",
        "* Append the mean degree centrality to the list mean_dcs. Be sure to convert dc.values() to a list first.\n",
        "* Hit 'Submit Answer' to view the plot!"
      ]
    },
    {
      "cell_type": "code",
      "metadata": {
        "colab": {
          "base_uri": "https://localhost:8080/",
          "height": 346
        },
        "id": "6ZrbhrcIyh2r",
        "outputId": "e889ffbe-02b0-4f63-f2b5-7ab75f04d6ce"
      },
      "source": [
        "from datetime import datetime, timedelta\n",
        "import numpy as np\n",
        "import networkx as nx\n",
        "import matplotlib.pyplot as plt\n",
        "\n",
        "# Initialize a new list: mean_dcs\n",
        "mean_dcs = []\n",
        "curr_day = dayone\n",
        "td = timedelta(days=2)\n",
        "\n",
        "while curr_day < lastday:\n",
        "    if curr_day.day == 1:\n",
        "        print(curr_day)  \n",
        "    # Instantiate a new graph containing a subset of edges: G_sub\n",
        "    G_sub = nx.Graph()\n",
        "    # Add nodes from G\n",
        "    G_sub.add_nodes_from(G.nodes(data=True))\n",
        "    # Add in edges that fulfill the criteria\n",
        "    G_sub.add_edges_from([(u, v, d) for u, v, d in G.edges(data=True) if d['date'] >= curr_day and d['date'] < curr_day + td])\n",
        "    \n",
        "    # Get the students projection\n",
        "    G_student_sub = nx.bipartite.projected_graph(G_sub,nodes=student_nodes)\n",
        "    # Compute the degree centrality of the students projection\n",
        "    dc = nx.degree_centrality(G_student_sub)\n",
        "    # Append mean degree centrality to the list mean_dcs\n",
        "    mean_dcs.append(np.mean(list(dc.values())))\n",
        "    # Increment the time\n",
        "    curr_day += td\n",
        "    \n",
        "plt.plot(mean_dcs)\n",
        "plt.xlabel('Time elapsed')\n",
        "plt.ylabel('Degree centrality.')\n",
        "plt.show()"
      ],
      "execution_count": null,
      "outputs": [
        {
          "output_type": "stream",
          "name": "stdout",
          "text": [
            "2004-06-01 00:00:00\n",
            "2004-07-01 00:00:00\n",
            "2004-09-01 00:00:00\n",
            "2004-10-01 00:00:00\n"
          ]
        },
        {
          "output_type": "display_data",
          "data": {
            "image/png": "[encoded data removed]",
            "text/plain": [
              "<Figure size 432x288 with 1 Axes>"
            ]
          },
          "metadata": {
            "needs_background": "light"
          }
        }
      ]
    },
    {
      "cell_type": "markdown",
      "metadata": {
        "id": "Y-IZn61UyiH-"
      },
      "source": [
        "\n",
        "# **Find the most popular forums day-by-day: I**\n",
        "## Exercise\n",
        "Great stuff! You're onto the final two exercises - which are really just one long exercise. These will be a good memory workout for your Python programming skills!\n",
        "\n",
        "We're going to see how many forums took the title of \"the most popular forum\" on any given time window.\n",
        "\n",
        "## Instructions\n",
        "* Instantiate a list to hold the list of most popular forums by day called most_popular_forums.\n",
        "* Instantiate a list to hold the degree centrality scores of the most popular forums called highest_dcs.\n",
        "* Instantiate new graph called G_sub and add in the nodes from the original graph G using the .add_nodes_from() method.\n",
        "* Add in edges from the original graph G that fulfill the criteria (which are exactly the same as in the previous exercise)."
      ]
    },
    {
      "cell_type": "code",
      "metadata": {
        "colab": {
          "base_uri": "https://localhost:8080/"
        },
        "id": "EWGDWddJyick",
        "outputId": "7717030c-39d6-494d-c709-c5333da10ae4"
      },
      "source": [
        "# Import necessary modules\n",
        "from datetime import timedelta\n",
        "import networkx as nx\n",
        "import matplotlib.pyplot as plt\n",
        "\n",
        "# Instantiate a list to hold the list of most popular forums by day: most_popular_forums\n",
        "most_popular_forums = []\n",
        "# Instantiate a list to hold the degree centrality scores of the most popular forums: highest_dcs\n",
        "highest_dcs = []\n",
        "curr_day = dayone\n",
        "td = timedelta(days=1)  \n",
        "\n",
        "while curr_day < lastday:  \n",
        "    if curr_day.day == 1: \n",
        "        print(curr_day) \n",
        "    # Instantiate new graph: G_sub\n",
        "    G_sub = nx.Graph()\n",
        "    \n",
        "    # Add in nodes from original graph G\n",
        "    G_sub.add_nodes_from(G.nodes(data=True))\n",
        "    \n",
        "    # Add in edges from the original graph G that fulfill the criteria\n",
        "    G_sub.add_edges_from([(u,v, d) for u, v, d in G.edges(data=True) if d['date'] >= curr_day and d['date'] < curr_day + td])\n",
        "    \n",
        "    # CODE CONTINUES ON NEXT EXERCISE\n",
        "    curr_day += td"
      ],
      "execution_count": null,
      "outputs": [
        {
          "output_type": "stream",
          "name": "stdout",
          "text": [
            "2004-06-01 00:00:00\n",
            "2004-07-01 00:00:00\n",
            "2004-08-01 00:00:00\n",
            "2004-09-01 00:00:00\n",
            "2004-10-01 00:00:00\n"
          ]
        }
      ]
    },
    {
      "cell_type": "markdown",
      "metadata": {
        "id": "X008L3WKyi64"
      },
      "source": [
        "# **Find the most popular forums day-by-day: II**\n",
        "## Exercise\n",
        "Great work with the previous exercise - you had written code that created the time-series graph list. Now, you're going to finish that exercise - that is, you'll find out how many forums had the most popular forum score on a per-day basis!\n",
        "\n",
        "One of the things you will be doing here is a \"dictionary comprehension\" to filter a dictionary. It is very similar to a list comprehension to filter a list, except the syntax looks like: {key: val for key, val in dict.items() if ...}. Keep that in mind!\n",
        "\n",
        "## Instructions\n",
        "* Get the degree centrality using nx.bipartite.degree_centrality(), with G_sub and forum_nodes as arguments.\n",
        "* Filter the dictionary such that there's only forum degree centralities. The key: val pair in the output expression should be n, dc. Iterate over dc.items() and check if n is in forum_nodes.\n",
        "* Identify the most popular forum(s) - should be of highest degree centrality (max(forum_dcs.values())) and its DC value should not be zero.\n",
        "* Append the highest dc values to highest_dcs.\n",
        "* Create the plots!\n",
        "> * Use a list comprehension for the first plot, in which you iterate over most_popular_forums (which is a list of lists) using forums as your iterator variable. The output expression should be the number of most popular forums, calculated using len().\n",
        "> * For the second plot, use highest_dcs and plt.plot() to visualize the top degree centrality score."
      ]
    },
    {
      "cell_type": "code",
      "metadata": {
        "colab": {
          "base_uri": "https://localhost:8080/",
          "height": 597
        },
        "id": "2Tpm5PPGyjP9",
        "outputId": "64a24d9b-297e-47d0-e51a-629e995585b9"
      },
      "source": [
        "# Import necessary modules\n",
        "from datetime import timedelta\n",
        "import networkx as nx\n",
        "import matplotlib.pyplot as plt\n",
        "\n",
        "most_popular_forums = []\n",
        "highest_dcs = []\n",
        "curr_day = dayone \n",
        "td = timedelta(days=1)  \n",
        "\n",
        "while curr_day < lastday:  \n",
        "    if curr_day.day == 1:  \n",
        "        print(curr_day)  \n",
        "    G_sub = nx.Graph()\n",
        "    G_sub.add_nodes_from(G.nodes(data=True))   \n",
        "    G_sub.add_edges_from([(u, v, d) for u, v, d in G.edges(data=True) if d['date'] >= curr_day and d['date'] < curr_day + td])\n",
        "    \n",
        "    # Get the degree centrality \n",
        "    dc = nx.bipartite.degree_centrality(G_sub,forum_nodes)\n",
        "    # Filter the dictionary such that there's only forum degree centralities\n",
        "    forum_dcs = {n:dc for n, dc in dc.items() if n in forum_nodes}\n",
        "    # Identify the most popular forum(s) \n",
        "    most_popular_forum = [n for n, dc in forum_dcs.items() if dc == max(forum_dcs.values()) and dc != 0] \n",
        "    most_popular_forums.append(most_popular_forum) \n",
        "    # Store the highest dc values in highest_dcs\n",
        "    highest_dcs.append(max(forum_dcs.values()))\n",
        "    \n",
        "    curr_day += td  \n",
        "    \n",
        "plt.figure(1) \n",
        "plt.plot([len(forums) for forums in most_popular_forums], color='blue', label='Forums')\n",
        "plt.ylabel('Number of Most Popular Forums')\n",
        "plt.show()\n",
        "\n",
        "plt.figure(2)\n",
        "plt.plot(highest_dcs, color='orange', label='DC Score')\n",
        "plt.ylabel('Top Degree Centrality Score')\n",
        "plt.show()\n"
      ],
      "execution_count": null,
      "outputs": [
        {
          "output_type": "stream",
          "name": "stdout",
          "text": [
            "2004-06-01 00:00:00\n",
            "2004-07-01 00:00:00\n",
            "2004-08-01 00:00:00\n",
            "2004-09-01 00:00:00\n",
            "2004-10-01 00:00:00\n"
          ]
        },
        {
          "output_type": "display_data",
          "data": {
            "image/png": "[encoded data removed]",
            "text/plain": [
              "<Figure size 432x288 with 1 Axes>"
            ]
          },
          "metadata": {
            "needs_background": "light"
          }
        },
        {
          "output_type": "display_data",
          "data": {
            "image/png": "[encoded data removed]",
            "text/plain": [
              "<Figure size 432x288 with 1 Axes>"
            ]
          },
          "metadata": {
            "needs_background": "light"
          }
        }
      ]
    }
  ]
}